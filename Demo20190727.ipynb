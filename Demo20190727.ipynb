{
  "nbformat": 4,
  "nbformat_minor": 0,
  "metadata": {
    "kernelspec": {
      "display_name": "Python 3",
      "language": "python",
      "name": "python3"
    },
    "language_info": {
      "codemirror_mode": {
        "name": "ipython",
        "version": 3
      },
      "file_extension": ".py",
      "mimetype": "text/x-python",
      "name": "python",
      "nbconvert_exporter": "python",
      "pygments_lexer": "ipython3",
      "version": "3.7.3"
    },
    "colab": {
      "name": "Demo20190727.ipynb",
      "provenance": []
    }
  },
  "cells": [
    {
      "cell_type": "markdown",
      "metadata": {
        "id": "M9ozgwK6xCgN",
        "colab_type": "text"
      },
      "source": [
        "## Python Basic"
      ]
    },
    {
      "cell_type": "code",
      "metadata": {
        "id": "Xv6oVe-YxCgS",
        "colab_type": "code",
        "outputId": "c7bb748b-e194-41f2-d0d0-4bd46e13841b",
        "colab": {}
      },
      "source": [
        "a = 3\n",
        "b = 2\n",
        "a + b"
      ],
      "execution_count": 0,
      "outputs": [
        {
          "output_type": "execute_result",
          "data": {
            "text/plain": [
              "5"
            ]
          },
          "metadata": {
            "tags": []
          },
          "execution_count": 1
        }
      ]
    },
    {
      "cell_type": "code",
      "metadata": {
        "id": "qW3fPM5zxCgc",
        "colab_type": "code",
        "outputId": "876f8c59-4f14-4414-a4c8-3f4b52f029f8",
        "colab": {}
      },
      "source": [
        "a * 10"
      ],
      "execution_count": 0,
      "outputs": [
        {
          "output_type": "execute_result",
          "data": {
            "text/plain": [
              "30"
            ]
          },
          "metadata": {
            "tags": []
          },
          "execution_count": 2
        }
      ]
    },
    {
      "cell_type": "code",
      "metadata": {
        "id": "87iwt5qWxCgg",
        "colab_type": "code",
        "outputId": "fc0499bf-d144-4df7-8787-62e6a57fe28f",
        "colab": {}
      },
      "source": [
        "a + 5"
      ],
      "execution_count": 0,
      "outputs": [
        {
          "output_type": "execute_result",
          "data": {
            "text/plain": [
              "8"
            ]
          },
          "metadata": {
            "tags": []
          },
          "execution_count": 3
        }
      ]
    },
    {
      "cell_type": "markdown",
      "metadata": {
        "id": "NS83VxixxCgl",
        "colab_type": "text"
      },
      "source": [
        "## Number"
      ]
    },
    {
      "cell_type": "code",
      "metadata": {
        "id": "5WLU_UwXxCgm",
        "colab_type": "code",
        "outputId": "ebfc8271-f41a-40fd-ef65-3bb04cfecab3",
        "colab": {}
      },
      "source": [
        "3 + 2 * 8"
      ],
      "execution_count": 0,
      "outputs": [
        {
          "output_type": "execute_result",
          "data": {
            "text/plain": [
              "19"
            ]
          },
          "metadata": {
            "tags": []
          },
          "execution_count": 1
        }
      ]
    },
    {
      "cell_type": "code",
      "metadata": {
        "id": "LUtpS0NExCgp",
        "colab_type": "code",
        "colab": {}
      },
      "source": [
        "a = 3\n",
        "b = 2"
      ],
      "execution_count": 0,
      "outputs": []
    },
    {
      "cell_type": "code",
      "metadata": {
        "id": "WJRrZjWAxCgu",
        "colab_type": "code",
        "outputId": "7c60ea63-df26-4382-9ba6-6ee398b57f89",
        "colab": {}
      },
      "source": [
        "a + b"
      ],
      "execution_count": 0,
      "outputs": [
        {
          "output_type": "execute_result",
          "data": {
            "text/plain": [
              "5"
            ]
          },
          "metadata": {
            "tags": []
          },
          "execution_count": 3
        }
      ]
    },
    {
      "cell_type": "code",
      "metadata": {
        "id": "5jVMHgWpxCg2",
        "colab_type": "code",
        "outputId": "604b3f9f-0d6c-4d06-9dc5-084437f386da",
        "colab": {}
      },
      "source": [
        "a - b"
      ],
      "execution_count": 0,
      "outputs": [
        {
          "output_type": "execute_result",
          "data": {
            "text/plain": [
              "1"
            ]
          },
          "metadata": {
            "tags": []
          },
          "execution_count": 4
        }
      ]
    },
    {
      "cell_type": "code",
      "metadata": {
        "id": "2_8b8SE6xCg6",
        "colab_type": "code",
        "outputId": "e4cafe0d-23b0-49f5-ccc0-ac3caea3ca12",
        "colab": {}
      },
      "source": [
        "type(a)"
      ],
      "execution_count": 0,
      "outputs": [
        {
          "output_type": "execute_result",
          "data": {
            "text/plain": [
              "int"
            ]
          },
          "metadata": {
            "tags": []
          },
          "execution_count": 5
        }
      ]
    },
    {
      "cell_type": "code",
      "metadata": {
        "id": "fE6lD5J0xChB",
        "colab_type": "code",
        "outputId": "e82bd147-d8b3-4d0c-fa09-66307963b30d",
        "colab": {}
      },
      "source": [
        "type(b)"
      ],
      "execution_count": 0,
      "outputs": [
        {
          "output_type": "execute_result",
          "data": {
            "text/plain": [
              "int"
            ]
          },
          "metadata": {
            "tags": []
          },
          "execution_count": 6
        }
      ]
    },
    {
      "cell_type": "code",
      "metadata": {
        "id": "937it3L7xChJ",
        "colab_type": "code",
        "colab": {}
      },
      "source": [
        "c = 1.5\n",
        "d = 2.5"
      ],
      "execution_count": 0,
      "outputs": []
    },
    {
      "cell_type": "code",
      "metadata": {
        "id": "8bUEwyqyxChO",
        "colab_type": "code",
        "outputId": "da9b64e5-ee62-4863-dd7e-e4a2f6009af7",
        "colab": {}
      },
      "source": [
        "c + d"
      ],
      "execution_count": 0,
      "outputs": [
        {
          "output_type": "execute_result",
          "data": {
            "text/plain": [
              "4.0"
            ]
          },
          "metadata": {
            "tags": []
          },
          "execution_count": 8
        }
      ]
    },
    {
      "cell_type": "code",
      "metadata": {
        "id": "2lQ_K36HxChR",
        "colab_type": "code",
        "outputId": "683c77e2-909a-42f9-d59a-c7d15e1c6a9c",
        "colab": {}
      },
      "source": [
        "c - d"
      ],
      "execution_count": 0,
      "outputs": [
        {
          "output_type": "execute_result",
          "data": {
            "text/plain": [
              "-1.0"
            ]
          },
          "metadata": {
            "tags": []
          },
          "execution_count": 9
        }
      ]
    },
    {
      "cell_type": "code",
      "metadata": {
        "id": "U-My6jwnxChU",
        "colab_type": "code",
        "outputId": "4d53df0b-ade2-4e29-eab1-2f838924b991",
        "colab": {}
      },
      "source": [
        "type(c)"
      ],
      "execution_count": 0,
      "outputs": [
        {
          "output_type": "execute_result",
          "data": {
            "text/plain": [
              "float"
            ]
          },
          "metadata": {
            "tags": []
          },
          "execution_count": 10
        }
      ]
    },
    {
      "cell_type": "code",
      "metadata": {
        "id": "MLJy-5sJxChX",
        "colab_type": "code",
        "outputId": "690eac6e-b25b-45f5-df08-ce69403ed863",
        "colab": {}
      },
      "source": [
        "type(d)"
      ],
      "execution_count": 0,
      "outputs": [
        {
          "output_type": "execute_result",
          "data": {
            "text/plain": [
              "float"
            ]
          },
          "metadata": {
            "tags": []
          },
          "execution_count": 11
        }
      ]
    },
    {
      "cell_type": "code",
      "metadata": {
        "id": "KYiAKAzuxChb",
        "colab_type": "code",
        "colab": {}
      },
      "source": [
        "a = '2'"
      ],
      "execution_count": 0,
      "outputs": []
    },
    {
      "cell_type": "code",
      "metadata": {
        "id": "fDYzBuOtxChg",
        "colab_type": "code",
        "outputId": "f4e552a5-d8eb-43a3-bf9a-68155539b587",
        "colab": {}
      },
      "source": [
        "type(a)"
      ],
      "execution_count": 0,
      "outputs": [
        {
          "output_type": "execute_result",
          "data": {
            "text/plain": [
              "str"
            ]
          },
          "metadata": {
            "tags": []
          },
          "execution_count": 13
        }
      ]
    },
    {
      "cell_type": "code",
      "metadata": {
        "id": "5ryoGeoJxChj",
        "colab_type": "code",
        "outputId": "54a0cd42-2331-452a-f3ff-21b1d649c2b6",
        "colab": {}
      },
      "source": [
        "int(a)"
      ],
      "execution_count": 0,
      "outputs": [
        {
          "output_type": "execute_result",
          "data": {
            "text/plain": [
              "2"
            ]
          },
          "metadata": {
            "tags": []
          },
          "execution_count": 14
        }
      ]
    },
    {
      "cell_type": "code",
      "metadata": {
        "id": "4hXGOy3IxChm",
        "colab_type": "code",
        "outputId": "b09cbc17-71d6-476e-c06f-fde7bbb087a9",
        "colab": {}
      },
      "source": [
        "int(2)"
      ],
      "execution_count": 0,
      "outputs": [
        {
          "output_type": "execute_result",
          "data": {
            "text/plain": [
              "2"
            ]
          },
          "metadata": {
            "tags": []
          },
          "execution_count": 15
        }
      ]
    },
    {
      "cell_type": "code",
      "metadata": {
        "id": "4EntZPXsxCho",
        "colab_type": "code",
        "outputId": "13c27347-730f-4597-8c78-924cc533104a",
        "colab": {}
      },
      "source": [
        "float(2)"
      ],
      "execution_count": 0,
      "outputs": [
        {
          "output_type": "execute_result",
          "data": {
            "text/plain": [
              "2.0"
            ]
          },
          "metadata": {
            "tags": []
          },
          "execution_count": 16
        }
      ]
    },
    {
      "cell_type": "code",
      "metadata": {
        "id": "h5dGj5ClxChr",
        "colab_type": "code",
        "outputId": "f6744695-9972-4f6b-98cf-ab238d4708f8",
        "colab": {}
      },
      "source": [
        "float('3.2')"
      ],
      "execution_count": 0,
      "outputs": [
        {
          "output_type": "execute_result",
          "data": {
            "text/plain": [
              "3.2"
            ]
          },
          "metadata": {
            "tags": []
          },
          "execution_count": 17
        }
      ]
    },
    {
      "cell_type": "code",
      "metadata": {
        "id": "XY2fcCFxxChw",
        "colab_type": "code",
        "colab": {}
      },
      "source": [
        "a = 5"
      ],
      "execution_count": 0,
      "outputs": []
    },
    {
      "cell_type": "code",
      "metadata": {
        "id": "5wBTPHhxxCh0",
        "colab_type": "code",
        "outputId": "9083801a-15bb-4553-d519-36386150eecb",
        "colab": {}
      },
      "source": [
        "a + a"
      ],
      "execution_count": 0,
      "outputs": [
        {
          "output_type": "execute_result",
          "data": {
            "text/plain": [
              "10"
            ]
          },
          "metadata": {
            "tags": []
          },
          "execution_count": 19
        }
      ]
    },
    {
      "cell_type": "code",
      "metadata": {
        "id": "nWKPOip0xCh3",
        "colab_type": "code",
        "colab": {}
      },
      "source": [
        "a = 10"
      ],
      "execution_count": 0,
      "outputs": []
    },
    {
      "cell_type": "code",
      "metadata": {
        "id": "YY5d22tQxCh5",
        "colab_type": "code",
        "outputId": "9126063b-7acc-48e6-8bc6-d3921fd49f8e",
        "colab": {}
      },
      "source": [
        "a + a"
      ],
      "execution_count": 0,
      "outputs": [
        {
          "output_type": "execute_result",
          "data": {
            "text/plain": [
              "20"
            ]
          },
          "metadata": {
            "tags": []
          },
          "execution_count": 21
        }
      ]
    },
    {
      "cell_type": "code",
      "metadata": {
        "id": "_Qi-jruNxCh8",
        "colab_type": "code",
        "colab": {}
      },
      "source": [
        "a = a + a"
      ],
      "execution_count": 0,
      "outputs": []
    },
    {
      "cell_type": "code",
      "metadata": {
        "id": "7j7-23QlxCiB",
        "colab_type": "code",
        "outputId": "07b9caee-b3da-4174-88f1-25194557bfd9",
        "colab": {}
      },
      "source": [
        "a"
      ],
      "execution_count": 0,
      "outputs": [
        {
          "output_type": "execute_result",
          "data": {
            "text/plain": [
              "20"
            ]
          },
          "metadata": {
            "tags": []
          },
          "execution_count": 23
        }
      ]
    },
    {
      "cell_type": "code",
      "metadata": {
        "id": "e2XYwmaGxCiD",
        "colab_type": "code",
        "outputId": "e415b362-ac03-4eb9-b736-80e1a7a724bd",
        "colab": {}
      },
      "source": [
        "price = 25.6\n",
        "exchange_rate = 32.33\n",
        "price * exchange_rate"
      ],
      "execution_count": 0,
      "outputs": [
        {
          "output_type": "execute_result",
          "data": {
            "text/plain": [
              "827.648"
            ]
          },
          "metadata": {
            "tags": []
          },
          "execution_count": 24
        }
      ]
    },
    {
      "cell_type": "code",
      "metadata": {
        "id": "66skYt6AxCiH",
        "colab_type": "code",
        "colab": {}
      },
      "source": [
        "ntd_price = price * exchange_rate"
      ],
      "execution_count": 0,
      "outputs": []
    },
    {
      "cell_type": "code",
      "metadata": {
        "id": "nBUVE67QxCiK",
        "colab_type": "code",
        "outputId": "787b1169-65f9-4fe7-d1de-2f50a4fe4933",
        "colab": {}
      },
      "source": [
        "ntd_price"
      ],
      "execution_count": 0,
      "outputs": [
        {
          "output_type": "execute_result",
          "data": {
            "text/plain": [
              "827.648"
            ]
          },
          "metadata": {
            "tags": []
          },
          "execution_count": 26
        }
      ]
    },
    {
      "cell_type": "code",
      "metadata": {
        "id": "8JiCrCkQxCiM",
        "colab_type": "code",
        "outputId": "e64f2af2-111e-4f26-bdb1-a3225d72c355",
        "colab": {}
      },
      "source": [
        "NTD_PRICE"
      ],
      "execution_count": 0,
      "outputs": [
        {
          "output_type": "error",
          "ename": "NameError",
          "evalue": "name 'NTD_PRICE' is not defined",
          "traceback": [
            "\u001b[1;31m---------------------------------------------------------------------------\u001b[0m",
            "\u001b[1;31mNameError\u001b[0m                                 Traceback (most recent call last)",
            "\u001b[1;32m<ipython-input-27-e94e23827b36>\u001b[0m in \u001b[0;36m<module>\u001b[1;34m\u001b[0m\n\u001b[1;32m----> 1\u001b[1;33m \u001b[0mNTD_PRICE\u001b[0m\u001b[1;33m\u001b[0m\u001b[1;33m\u001b[0m\u001b[0m\n\u001b[0m",
            "\u001b[1;31mNameError\u001b[0m: name 'NTD_PRICE' is not defined"
          ]
        }
      ]
    },
    {
      "cell_type": "markdown",
      "metadata": {
        "id": "bbo3Tw_IxCiQ",
        "colab_type": "text"
      },
      "source": [
        "## Python String"
      ]
    },
    {
      "cell_type": "code",
      "metadata": {
        "id": "ZatkIkBbxCiR",
        "colab_type": "code",
        "outputId": "bab5a3b4-f324-4ed6-ba54-e7fbc564667d",
        "colab": {}
      },
      "source": [
        "a = 'hello world'\n",
        "type(a)\n",
        "a"
      ],
      "execution_count": 0,
      "outputs": [
        {
          "output_type": "execute_result",
          "data": {
            "text/plain": [
              "'hello world'"
            ]
          },
          "metadata": {
            "tags": []
          },
          "execution_count": 31
        }
      ]
    },
    {
      "cell_type": "code",
      "metadata": {
        "id": "aCqFrMGrxCiU",
        "colab_type": "code",
        "outputId": "28d1198f-4cd2-4f71-d5c4-4614ac47e6b8",
        "colab": {}
      },
      "source": [
        "a = \"hello world\"\n",
        "type(a)\n",
        "a"
      ],
      "execution_count": 0,
      "outputs": [
        {
          "output_type": "execute_result",
          "data": {
            "text/plain": [
              "'hello world'"
            ]
          },
          "metadata": {
            "tags": []
          },
          "execution_count": 32
        }
      ]
    },
    {
      "cell_type": "code",
      "metadata": {
        "id": "-xzWl18jxCiY",
        "colab_type": "code",
        "outputId": "c25e1b0f-7e3a-4dad-b2a3-3e6ce6451a64",
        "colab": {}
      },
      "source": [
        "a = 'I'm 18 years old'"
      ],
      "execution_count": 0,
      "outputs": [
        {
          "output_type": "error",
          "ename": "SyntaxError",
          "evalue": "invalid syntax (<ipython-input-33-2be2c9079c46>, line 1)",
          "traceback": [
            "\u001b[1;36m  File \u001b[1;32m\"<ipython-input-33-2be2c9079c46>\"\u001b[1;36m, line \u001b[1;32m1\u001b[0m\n\u001b[1;33m    a = 'I'm 18 years old'\u001b[0m\n\u001b[1;37m           ^\u001b[0m\n\u001b[1;31mSyntaxError\u001b[0m\u001b[1;31m:\u001b[0m invalid syntax\n"
          ]
        }
      ]
    },
    {
      "cell_type": "code",
      "metadata": {
        "id": "jzW-_6kyxCic",
        "colab_type": "code",
        "outputId": "c0aeaf5c-83ac-46eb-d913-63f63c039136",
        "colab": {}
      },
      "source": [
        "a = \"I'm 18 years old\"\n",
        "a"
      ],
      "execution_count": 0,
      "outputs": [
        {
          "output_type": "execute_result",
          "data": {
            "text/plain": [
              "\"I'm 18 years old\""
            ]
          },
          "metadata": {
            "tags": []
          },
          "execution_count": 35
        }
      ]
    },
    {
      "cell_type": "code",
      "metadata": {
        "id": "LU53cblBxCig",
        "colab_type": "code",
        "outputId": "e6a7a525-a679-4d69-e036-cf0bd9de0e74",
        "colab": {}
      },
      "source": [
        "a = \"hello world\"\n",
        "a"
      ],
      "execution_count": 0,
      "outputs": [
        {
          "output_type": "execute_result",
          "data": {
            "text/plain": [
              "'hello world'"
            ]
          },
          "metadata": {
            "tags": []
          },
          "execution_count": 36
        }
      ]
    },
    {
      "cell_type": "code",
      "metadata": {
        "id": "nw6zI16PxCim",
        "colab_type": "code",
        "outputId": "3fd34030-fc37-400f-f423-49a0d2df41bf",
        "colab": {}
      },
      "source": [
        "'hello' # 預設只會印出最後一段\n",
        "'world'"
      ],
      "execution_count": 0,
      "outputs": [
        {
          "output_type": "execute_result",
          "data": {
            "text/plain": [
              "'world'"
            ]
          },
          "metadata": {
            "tags": []
          },
          "execution_count": 37
        }
      ]
    },
    {
      "cell_type": "code",
      "metadata": {
        "id": "wfieD3d7xCis",
        "colab_type": "code",
        "outputId": "fbf839ab-fa69-4fd8-aa53-10d20838f2a2",
        "colab": {}
      },
      "source": [
        "print('hello')\n",
        "print('world')"
      ],
      "execution_count": 0,
      "outputs": [
        {
          "output_type": "stream",
          "text": [
            "hello\n",
            "world\n"
          ],
          "name": "stdout"
        }
      ]
    },
    {
      "cell_type": "code",
      "metadata": {
        "id": "i8y9fh0txCix",
        "colab_type": "code",
        "outputId": "4944f8d6-99d4-404f-a3f9-3b809ae140a3",
        "colab": {}
      },
      "source": [
        "print('寶寶心裡苦 但寶寶不說')"
      ],
      "execution_count": 0,
      "outputs": [
        {
          "output_type": "stream",
          "text": [
            "寶寶心裡苦 但寶寶不說\n"
          ],
          "name": "stdout"
        }
      ]
    },
    {
      "cell_type": "code",
      "metadata": {
        "id": "4y3-3xzbxCi0",
        "colab_type": "code",
        "outputId": "0b42ede9-525d-4dde-cb7d-66eda0db9c0c",
        "colab": {}
      },
      "source": [
        "print('Hello world 1')\n",
        "print('Hello world 2')\n",
        "print('Use \\n to print a new line')\n",
        "print('\\n')\n",
        "print('See what i mean?')"
      ],
      "execution_count": 0,
      "outputs": [
        {
          "output_type": "stream",
          "text": [
            "Hello world 1\n",
            "Hello world 2\n",
            "Use \n",
            " to print a new line\n",
            "\n",
            "\n",
            "See what i mean?\n"
          ],
          "name": "stdout"
        }
      ]
    },
    {
      "cell_type": "code",
      "metadata": {
        "id": "YR3Z5JwMxCi3",
        "colab_type": "code",
        "outputId": "0b3d006a-b5c5-4ff6-babe-bd7d9b65ab2b",
        "colab": {}
      },
      "source": [
        "print('1 2 3\\n100 200 300')"
      ],
      "execution_count": 0,
      "outputs": [
        {
          "output_type": "stream",
          "text": [
            "1 2 3\n",
            "100 200 300\n"
          ],
          "name": "stdout"
        }
      ]
    },
    {
      "cell_type": "code",
      "metadata": {
        "id": "Sscdik65xCi8",
        "colab_type": "code",
        "outputId": "8700ce79-9d56-4491-9802-d1f8ab28eb26",
        "colab": {}
      },
      "source": [
        "print('1\\t2\\t3\\n100\\t200\\t300')"
      ],
      "execution_count": 0,
      "outputs": [
        {
          "output_type": "stream",
          "text": [
            "1\t2\t3\n",
            "100\t200\t300\n"
          ],
          "name": "stdout"
        }
      ]
    },
    {
      "cell_type": "code",
      "metadata": {
        "id": "4SfzJRDGxCjB",
        "colab_type": "code",
        "outputId": "9fea7306-b57d-4ae4-b7cd-6cf29904a067",
        "colab": {}
      },
      "source": [
        "a = 'this is a text'\n",
        "print(a)"
      ],
      "execution_count": 0,
      "outputs": [
        {
          "output_type": "stream",
          "text": [
            "this is a text\n"
          ],
          "name": "stdout"
        }
      ]
    },
    {
      "cell_type": "code",
      "metadata": {
        "id": "8ntOez1_xCjH",
        "colab_type": "code",
        "outputId": "6616b079-2c6c-4b0f-df5e-5a8c47e7294c",
        "colab": {}
      },
      "source": [
        "a = 'this is a loooooooooooooooooooooooo\\\n",
        "ooooooooooooooooooooooooooooooooong   text'\n",
        "\n",
        "print(a)\n"
      ],
      "execution_count": 0,
      "outputs": [
        {
          "output_type": "stream",
          "text": [
            "this is a looooooooooooooooooooooooooooooooooooooooooooooooooooooooong   text\n"
          ],
          "name": "stdout"
        }
      ]
    },
    {
      "cell_type": "code",
      "metadata": {
        "id": "pJBvL1-0xCjL",
        "colab_type": "code",
        "outputId": "653e5b41-bde2-43ab-c748-bc2060b07f22",
        "colab": {}
      },
      "source": [
        "a = 'I love Python \n",
        "Python is my favorite\n",
        "I would like to use python to build something'"
      ],
      "execution_count": 0,
      "outputs": [
        {
          "output_type": "error",
          "ename": "SyntaxError",
          "evalue": "EOL while scanning string literal (<ipython-input-45-37af464af172>, line 1)",
          "traceback": [
            "\u001b[1;36m  File \u001b[1;32m\"<ipython-input-45-37af464af172>\"\u001b[1;36m, line \u001b[1;32m1\u001b[0m\n\u001b[1;33m    a = 'I love Python\u001b[0m\n\u001b[1;37m                       ^\u001b[0m\n\u001b[1;31mSyntaxError\u001b[0m\u001b[1;31m:\u001b[0m EOL while scanning string literal\n"
          ]
        }
      ]
    },
    {
      "cell_type": "code",
      "metadata": {
        "id": "1_YrOsQZxCjQ",
        "colab_type": "code",
        "outputId": "3d812173-68ce-46d4-f439-4490514f9948",
        "colab": {}
      },
      "source": [
        "a = 'I love Python \\\n",
        "Python is my favorite\\\n",
        "I would like to use python to build something'\n",
        "print(a)"
      ],
      "execution_count": 0,
      "outputs": [
        {
          "output_type": "stream",
          "text": [
            "I love Python Python is my favoriteI would like to use python to build something\n"
          ],
          "name": "stdout"
        }
      ]
    },
    {
      "cell_type": "code",
      "metadata": {
        "id": "gfmr-ZTjxCjb",
        "colab_type": "code",
        "outputId": "7cab861a-657e-41c2-e91c-b26e4053db03",
        "colab": {}
      },
      "source": [
        "a = '''I love Python \n",
        "Python is my favorite\n",
        "I would like to use python to build something'''\n",
        "print(a)"
      ],
      "execution_count": 0,
      "outputs": [
        {
          "output_type": "stream",
          "text": [
            "I love Python \n",
            "Python is my favorite\n",
            "I would like to use python to build something\n"
          ],
          "name": "stdout"
        }
      ]
    },
    {
      "cell_type": "code",
      "metadata": {
        "id": "nDJk9RgexCjg",
        "colab_type": "code",
        "outputId": "c539dda8-374e-4286-a31d-1362e959be4a",
        "colab": {}
      },
      "source": [
        "a = \"\"\"I love Python \n",
        "Python is my favorite\n",
        "I would like to use python to build something\"\"\"\n",
        "print(a)"
      ],
      "execution_count": 0,
      "outputs": [
        {
          "output_type": "stream",
          "text": [
            "I love Python \n",
            "Python is my favorite\n",
            "I would like to use python to build something\n"
          ],
          "name": "stdout"
        }
      ]
    },
    {
      "cell_type": "code",
      "metadata": {
        "id": "cvWONQInxCjk",
        "colab_type": "code",
        "outputId": "b36772a6-a89c-4918-e13b-d698b268cbfe",
        "colab": {}
      },
      "source": [
        "s = 'Hello'\n",
        "s[0]"
      ],
      "execution_count": 0,
      "outputs": [
        {
          "output_type": "execute_result",
          "data": {
            "text/plain": [
              "'H'"
            ]
          },
          "metadata": {
            "tags": []
          },
          "execution_count": 50
        }
      ]
    },
    {
      "cell_type": "code",
      "metadata": {
        "id": "S6kYxBpExCjo",
        "colab_type": "code",
        "outputId": "6970581f-4e06-41e2-d79d-06f50f1f9dd4",
        "colab": {}
      },
      "source": [
        "s[1]"
      ],
      "execution_count": 0,
      "outputs": [
        {
          "output_type": "execute_result",
          "data": {
            "text/plain": [
              "'e'"
            ]
          },
          "metadata": {
            "tags": []
          },
          "execution_count": 51
        }
      ]
    },
    {
      "cell_type": "code",
      "metadata": {
        "id": "EaipJ_9yxCjt",
        "colab_type": "code",
        "outputId": "b6aede25-4a78-4cc8-ed6b-94cc4116c4c6",
        "colab": {}
      },
      "source": [
        "s[4]"
      ],
      "execution_count": 0,
      "outputs": [
        {
          "output_type": "execute_result",
          "data": {
            "text/plain": [
              "'o'"
            ]
          },
          "metadata": {
            "tags": []
          },
          "execution_count": 52
        }
      ]
    },
    {
      "cell_type": "code",
      "metadata": {
        "id": "A8t5BtODxCjv",
        "colab_type": "code",
        "outputId": "69d7677a-a1aa-4bf3-d3cf-d889a1d1a16f",
        "colab": {}
      },
      "source": [
        "s[-1]"
      ],
      "execution_count": 0,
      "outputs": [
        {
          "output_type": "execute_result",
          "data": {
            "text/plain": [
              "'o'"
            ]
          },
          "metadata": {
            "tags": []
          },
          "execution_count": 53
        }
      ]
    },
    {
      "cell_type": "code",
      "metadata": {
        "id": "SbAcNfO9xCjz",
        "colab_type": "code",
        "outputId": "91717088-433a-4314-ccf9-25666a0029e7",
        "colab": {}
      },
      "source": [
        "s = 'Hello'\n",
        "\n",
        "# for(i =1; i < 4; i ++)\n",
        "s[1:4] # e: 1, l :2,  l:3 "
      ],
      "execution_count": 0,
      "outputs": [
        {
          "output_type": "execute_result",
          "data": {
            "text/plain": [
              "'ell'"
            ]
          },
          "metadata": {
            "tags": []
          },
          "execution_count": 54
        }
      ]
    },
    {
      "cell_type": "code",
      "metadata": {
        "id": "YGibClhKxCj3",
        "colab_type": "code",
        "outputId": "4c345550-d60f-4641-d9dc-1fe8493a9ebc",
        "colab": {}
      },
      "source": [
        "s[:3]"
      ],
      "execution_count": 0,
      "outputs": [
        {
          "output_type": "execute_result",
          "data": {
            "text/plain": [
              "'Hel'"
            ]
          },
          "metadata": {
            "tags": []
          },
          "execution_count": 56
        }
      ]
    },
    {
      "cell_type": "code",
      "metadata": {
        "id": "jJ5ahs98xCj7",
        "colab_type": "code",
        "outputId": "96b3609b-afa4-42cd-cfed-aa52414d295c",
        "colab": {}
      },
      "source": [
        "s[3:]"
      ],
      "execution_count": 0,
      "outputs": [
        {
          "output_type": "execute_result",
          "data": {
            "text/plain": [
              "'lo'"
            ]
          },
          "metadata": {
            "tags": []
          },
          "execution_count": 57
        }
      ]
    },
    {
      "cell_type": "code",
      "metadata": {
        "id": "W0IfC9ptxCj-",
        "colab_type": "code",
        "outputId": "b7c13fcd-296e-4372-dc22-f92da660378c",
        "colab": {}
      },
      "source": [
        "s[:]"
      ],
      "execution_count": 0,
      "outputs": [
        {
          "output_type": "execute_result",
          "data": {
            "text/plain": [
              "'Hello'"
            ]
          },
          "metadata": {
            "tags": []
          },
          "execution_count": 59
        }
      ]
    },
    {
      "cell_type": "code",
      "metadata": {
        "id": "e4v5JbMlxCkA",
        "colab_type": "code",
        "outputId": "9840774c-2d47-45dc-e37e-0f5eb2723131",
        "colab": {}
      },
      "source": [
        "s = 'Hello'\n",
        "\n",
        "# for(i =0; i < len(s); i ++)\n",
        "s[::1]"
      ],
      "execution_count": 0,
      "outputs": [
        {
          "output_type": "execute_result",
          "data": {
            "text/plain": [
              "'Hello'"
            ]
          },
          "metadata": {
            "tags": []
          },
          "execution_count": 61
        }
      ]
    },
    {
      "cell_type": "code",
      "metadata": {
        "id": "uhX11Nb9xCkD",
        "colab_type": "code",
        "outputId": "6bfa2f09-2ba7-4c50-92af-a3a889d67a48",
        "colab": {}
      },
      "source": [
        "# for(i =0; i < len(s); i += 2)\n",
        "s[::2]"
      ],
      "execution_count": 0,
      "outputs": [
        {
          "output_type": "execute_result",
          "data": {
            "text/plain": [
              "'Hlo'"
            ]
          },
          "metadata": {
            "tags": []
          },
          "execution_count": 62
        }
      ]
    },
    {
      "cell_type": "code",
      "metadata": {
        "id": "2dvNTZgzxCkG",
        "colab_type": "code",
        "outputId": "de0f5cb2-b9e7-4313-8293-076303618c2d",
        "colab": {}
      },
      "source": [
        "# for(i =1; i < 4; i ++)\n",
        "s[1:4:1]"
      ],
      "execution_count": 0,
      "outputs": [
        {
          "output_type": "execute_result",
          "data": {
            "text/plain": [
              "'ell'"
            ]
          },
          "metadata": {
            "tags": []
          },
          "execution_count": 64
        }
      ]
    },
    {
      "cell_type": "code",
      "metadata": {
        "id": "8avhuTXWxCkJ",
        "colab_type": "code",
        "outputId": "ebc424ee-ec03-464b-c4eb-6427648d1a04",
        "colab": {}
      },
      "source": [
        "s[::-1]"
      ],
      "execution_count": 0,
      "outputs": [
        {
          "output_type": "execute_result",
          "data": {
            "text/plain": [
              "'olleH'"
            ]
          },
          "metadata": {
            "tags": []
          },
          "execution_count": 65
        }
      ]
    },
    {
      "cell_type": "code",
      "metadata": {
        "id": "GHiFuFA2xCkO",
        "colab_type": "code",
        "outputId": "3abf15b5-8992-4164-8cb5-f8c22b300f7a",
        "colab": {}
      },
      "source": [
        "a = '上海自來水來自海上'\n",
        "a == a[::-1]"
      ],
      "execution_count": 0,
      "outputs": [
        {
          "output_type": "execute_result",
          "data": {
            "text/plain": [
              "True"
            ]
          },
          "metadata": {
            "tags": []
          },
          "execution_count": 66
        }
      ]
    },
    {
      "cell_type": "code",
      "metadata": {
        "id": "gFzYW_amxCkR",
        "colab_type": "code",
        "outputId": "777412b4-faae-47f4-b18c-64f6e906117f",
        "colab": {}
      },
      "source": [
        "a = '今天天氣真好'\n",
        "a == a[::-1]"
      ],
      "execution_count": 0,
      "outputs": [
        {
          "output_type": "execute_result",
          "data": {
            "text/plain": [
              "False"
            ]
          },
          "metadata": {
            "tags": []
          },
          "execution_count": 67
        }
      ]
    },
    {
      "cell_type": "code",
      "metadata": {
        "id": "lpQFdRuwxCkW",
        "colab_type": "code",
        "outputId": "968b94fd-4e0e-4d58-c6d9-c426c54865d5",
        "colab": {}
      },
      "source": [
        "s  = 'Hello'\n",
        "s1 = 'World'\n",
        "s + s1"
      ],
      "execution_count": 0,
      "outputs": [
        {
          "output_type": "execute_result",
          "data": {
            "text/plain": [
              "'HelloWorld'"
            ]
          },
          "metadata": {
            "tags": []
          },
          "execution_count": 68
        }
      ]
    },
    {
      "cell_type": "code",
      "metadata": {
        "id": "jfr6HyIkxCka",
        "colab_type": "code",
        "outputId": "b4f3c5a1-d833-4129-d5b1-5b852323adaf",
        "colab": {}
      },
      "source": [
        "s + ' ' + s1"
      ],
      "execution_count": 0,
      "outputs": [
        {
          "output_type": "execute_result",
          "data": {
            "text/plain": [
              "'Hello World'"
            ]
          },
          "metadata": {
            "tags": []
          },
          "execution_count": 69
        }
      ]
    },
    {
      "cell_type": "code",
      "metadata": {
        "id": "gEoSxtF4xCkf",
        "colab_type": "code",
        "outputId": "e612b956-7515-4f0a-ce65-805031d446c8",
        "colab": {}
      },
      "source": [
        "'對不起'  * 100"
      ],
      "execution_count": 0,
      "outputs": [
        {
          "output_type": "execute_result",
          "data": {
            "text/plain": [
              "'對不起對不起對不起對不起對不起對不起對不起對不起對不起對不起對不起對不起對不起對不起對不起對不起對不起對不起對不起對不起對不起對不起對不起對不起對不起對不起對不起對不起對不起對不起對不起對不起對不起對不起對不起對不起對不起對不起對不起對不起對不起對不起對不起對不起對不起對不起對不起對不起對不起對不起對不起對不起對不起對不起對不起對不起對不起對不起對不起對不起對不起對不起對不起對不起對不起對不起對不起對不起對不起對不起對不起對不起對不起對不起對不起對不起對不起對不起對不起對不起對不起對不起對不起對不起對不起對不起對不起對不起對不起對不起對不起對不起對不起對不起對不起對不起對不起對不起對不起對不起'"
            ]
          },
          "metadata": {
            "tags": []
          },
          "execution_count": 70
        }
      ]
    },
    {
      "cell_type": "code",
      "metadata": {
        "id": "O2bdPaltxCkj",
        "colab_type": "code",
        "outputId": "f1475faf-92c3-4c64-9054-a2141e6ad8ee",
        "colab": {}
      },
      "source": [
        "s"
      ],
      "execution_count": 0,
      "outputs": [
        {
          "output_type": "execute_result",
          "data": {
            "text/plain": [
              "'Hello'"
            ]
          },
          "metadata": {
            "tags": []
          },
          "execution_count": 71
        }
      ]
    },
    {
      "cell_type": "code",
      "metadata": {
        "id": "adTkxRBRxCkl",
        "colab_type": "code",
        "outputId": "22e50e6b-4685-49f4-95a0-84380be46eba",
        "colab": {}
      },
      "source": [
        "print(dir(s))"
      ],
      "execution_count": 0,
      "outputs": [
        {
          "output_type": "stream",
          "text": [
            "['__add__', '__class__', '__contains__', '__delattr__', '__dir__', '__doc__', '__eq__', '__format__', '__ge__', '__getattribute__', '__getitem__', '__getnewargs__', '__gt__', '__hash__', '__init__', '__init_subclass__', '__iter__', '__le__', '__len__', '__lt__', '__mod__', '__mul__', '__ne__', '__new__', '__reduce__', '__reduce_ex__', '__repr__', '__rmod__', '__rmul__', '__setattr__', '__sizeof__', '__str__', '__subclasshook__', 'capitalize', 'casefold', 'center', 'count', 'encode', 'endswith', 'expandtabs', 'find', 'format', 'format_map', 'index', 'isalnum', 'isalpha', 'isascii', 'isdecimal', 'isdigit', 'isidentifier', 'islower', 'isnumeric', 'isprintable', 'isspace', 'istitle', 'isupper', 'join', 'ljust', 'lower', 'lstrip', 'maketrans', 'partition', 'replace', 'rfind', 'rindex', 'rjust', 'rpartition', 'rsplit', 'rstrip', 'split', 'splitlines', 'startswith', 'strip', 'swapcase', 'title', 'translate', 'upper', 'zfill']\n"
          ],
          "name": "stdout"
        }
      ]
    },
    {
      "cell_type": "code",
      "metadata": {
        "id": "gtrETSK2xCkq",
        "colab_type": "code",
        "outputId": "c8ae76fd-1a4c-4e15-c02e-add5838e3690",
        "colab": {}
      },
      "source": [
        "s = 'hello world'\n",
        "s.upper()"
      ],
      "execution_count": 0,
      "outputs": [
        {
          "output_type": "execute_result",
          "data": {
            "text/plain": [
              "'HELLO WORLD'"
            ]
          },
          "metadata": {
            "tags": []
          },
          "execution_count": 73
        }
      ]
    },
    {
      "cell_type": "code",
      "metadata": {
        "id": "dHFPs7DdxCkx",
        "colab_type": "code",
        "outputId": "379a1e1d-8189-4578-d91d-d43841f44f65",
        "colab": {}
      },
      "source": [
        "help(s.upper)"
      ],
      "execution_count": 0,
      "outputs": [
        {
          "output_type": "stream",
          "text": [
            "Help on built-in function upper:\n",
            "\n",
            "upper() method of builtins.str instance\n",
            "    Return a copy of the string converted to uppercase.\n",
            "\n"
          ],
          "name": "stdout"
        }
      ]
    },
    {
      "cell_type": "code",
      "metadata": {
        "id": "-iF-Z4n7xCk0",
        "colab_type": "code",
        "colab": {}
      },
      "source": [
        "?s.upper"
      ],
      "execution_count": 0,
      "outputs": []
    },
    {
      "cell_type": "markdown",
      "metadata": {
        "id": "lpQoj1ENxCk5",
        "colab_type": "text"
      },
      "source": [
        "## 蘋果日報破解程式\n",
        "- https://gist.github.com/ywchiu/c2363caa0ae9261babeaea49e4a710fa"
      ]
    },
    {
      "cell_type": "code",
      "metadata": {
        "id": "Id7JiMeExCk6",
        "colab_type": "code",
        "colab": {}
      },
      "source": [
        "apple = '''\n",
        "要怎麼製造心動？其實只要製造錯覺，就很容易讓兩人產生火花，瞬間天雷勾動地火；阿畫說，若在喜歡的人面前，通常會有心臟砰砰然的跳動，這樣心跳加速的緊張感，其實透過心理學上的「吊橋效應」，同樣也能達到，有研究報告顯示，當男子因跑步而使心跳次數升高，這時就很容易被眼前女子所吸引，由此可見，當人處於亢奮狀態，就可以大幅增加浪漫感覺，進而順利發展情侶關係。想製造適當的緊張感，透過看恐怖電影，玩遊樂園的刺激設施，都是不錯方法，若能在適當時機，來點曖昧的肢體接觸，就能讓對方產生心動錯覺，不妨試試看吧。'''"
      ],
      "execution_count": 0,
      "outputs": []
    },
    {
      "cell_type": "code",
      "metadata": {
        "id": "Cq7QeAxkxCk8",
        "colab_type": "code",
        "outputId": "d6f65db4-1c6d-463e-e95a-2171762ad1b4",
        "colab": {}
      },
      "source": [
        "apple"
      ],
      "execution_count": 0,
      "outputs": [
        {
          "output_type": "execute_result",
          "data": {
            "text/plain": [
              "'\\n要怎麼製造心動？其實只要製造錯覺，就很容易讓兩人產生火花，瞬間天雷勾動地火；阿畫說，若在喜歡的人面前，通常會有心臟砰砰然的跳動，這樣心跳加速的緊張感，其實透過心理學上的「吊橋效應」，同樣也能達到，有研究報告顯示，當男子因跑步而使心跳次數升高，這時就很容易被眼前女子所吸引，由此可見，當人處於亢奮狀態，就可以大幅增加浪漫感覺，進而順利發展情侶關係。想製造適當的緊張感，透過看恐怖電影，玩遊樂園的刺激設施，都是不錯方法，若能在適當時機，來點曖昧的肢體接觸，就能讓對方產生心動錯覺，不妨試試看吧。'"
            ]
          },
          "metadata": {
            "tags": []
          },
          "execution_count": 77
        }
      ]
    },
    {
      "cell_type": "code",
      "metadata": {
        "id": "ELLM7t8XxCk_",
        "colab_type": "code",
        "outputId": "2947cb7a-7a2f-46f5-e9f5-8afef4dd3c64",
        "colab": {}
      },
      "source": [
        "apple.strip()"
      ],
      "execution_count": 0,
      "outputs": [
        {
          "output_type": "execute_result",
          "data": {
            "text/plain": [
              "'要怎麼製造心動？其實只要製造錯覺，就很容易讓兩人產生火花，瞬間天雷勾動地火；阿畫說，若在喜歡的人面前，通常會有心臟砰砰然的跳動，這樣心跳加速的緊張感，其實透過心理學上的「吊橋效應」，同樣也能達到，有研究報告顯示，當男子因跑步而使心跳次數升高，這時就很容易被眼前女子所吸引，由此可見，當人處於亢奮狀態，就可以大幅增加浪漫感覺，進而順利發展情侶關係。想製造適當的緊張感，透過看恐怖電影，玩遊樂園的刺激設施，都是不錯方法，若能在適當時機，來點曖昧的肢體接觸，就能讓對方產生心動錯覺，不妨試試看吧。'"
            ]
          },
          "metadata": {
            "tags": []
          },
          "execution_count": 79
        }
      ]
    },
    {
      "cell_type": "code",
      "metadata": {
        "id": "WDRE-s24xClC",
        "colab_type": "code",
        "colab": {}
      },
      "source": [
        "?apple.strip"
      ],
      "execution_count": 0,
      "outputs": []
    },
    {
      "cell_type": "code",
      "metadata": {
        "id": "RE8HTSTXxClE",
        "colab_type": "code",
        "outputId": "c81f7012-d507-42a4-91b1-ac24a52299a1",
        "colab": {}
      },
      "source": [
        "len(apple)"
      ],
      "execution_count": 0,
      "outputs": [
        {
          "output_type": "execute_result",
          "data": {
            "text/plain": [
              "246"
            ]
          },
          "metadata": {
            "tags": []
          },
          "execution_count": 80
        }
      ]
    },
    {
      "cell_type": "code",
      "metadata": {
        "id": "KwTstTg_xClI",
        "colab_type": "code",
        "colab": {}
      },
      "source": [
        "?len"
      ],
      "execution_count": 0,
      "outputs": []
    },
    {
      "cell_type": "code",
      "metadata": {
        "id": "jhtbGZuCxClL",
        "colab_type": "code",
        "outputId": "42be0b44-c157-481d-aca2-7ed85af06e4a",
        "colab": {}
      },
      "source": [
        "apple.split('，')"
      ],
      "execution_count": 0,
      "outputs": [
        {
          "output_type": "execute_result",
          "data": {
            "text/plain": [
              "['\\n要怎麼製造心動？其實只要製造錯覺',\n",
              " '就很容易讓兩人產生火花',\n",
              " '瞬間天雷勾動地火；阿畫說',\n",
              " '若在喜歡的人面前',\n",
              " '通常會有心臟砰砰然的跳動',\n",
              " '這樣心跳加速的緊張感',\n",
              " '其實透過心理學上的「吊橋效應」',\n",
              " '同樣也能達到',\n",
              " '有研究報告顯示',\n",
              " '當男子因跑步而使心跳次數升高',\n",
              " '這時就很容易被眼前女子所吸引',\n",
              " '由此可見',\n",
              " '當人處於亢奮狀態',\n",
              " '就可以大幅增加浪漫感覺',\n",
              " '進而順利發展情侶關係。想製造適當的緊張感',\n",
              " '透過看恐怖電影',\n",
              " '玩遊樂園的刺激設施',\n",
              " '都是不錯方法',\n",
              " '若能在適當時機',\n",
              " '來點曖昧的肢體接觸',\n",
              " '就能讓對方產生心動錯覺',\n",
              " '不妨試試看吧。']"
            ]
          },
          "metadata": {
            "tags": []
          },
          "execution_count": 82
        }
      ]
    },
    {
      "cell_type": "code",
      "metadata": {
        "id": "5OpDqAiRxClQ",
        "colab_type": "code",
        "colab": {}
      },
      "source": [
        "?apple.split"
      ],
      "execution_count": 0,
      "outputs": []
    },
    {
      "cell_type": "code",
      "metadata": {
        "id": "2Me4dIuIxClS",
        "colab_type": "code",
        "outputId": "5409fae3-c8b1-4496-d72c-0b72af9d8e56",
        "colab": {}
      },
      "source": [
        "apple.count('心動')"
      ],
      "execution_count": 0,
      "outputs": [
        {
          "output_type": "execute_result",
          "data": {
            "text/plain": [
              "2"
            ]
          },
          "metadata": {
            "tags": []
          },
          "execution_count": 83
        }
      ]
    },
    {
      "cell_type": "code",
      "metadata": {
        "id": "qMrN_jLxxClV",
        "colab_type": "code",
        "colab": {}
      },
      "source": [
        "?apple.count"
      ],
      "execution_count": 0,
      "outputs": []
    },
    {
      "cell_type": "markdown",
      "metadata": {
        "id": "yUtVC-jyxCla",
        "colab_type": "text"
      },
      "source": [
        "## Python List"
      ]
    },
    {
      "cell_type": "code",
      "metadata": {
        "id": "nuP9ldNIxClb",
        "colab_type": "code",
        "colab": {}
      },
      "source": [
        "a = 'John'\n",
        "b = 'Marry'\n",
        "c = 'Ian'"
      ],
      "execution_count": 0,
      "outputs": []
    },
    {
      "cell_type": "code",
      "metadata": {
        "id": "GrFipN0fxCld",
        "colab_type": "code",
        "colab": {}
      },
      "source": [
        "names = ['John', 'Marry', 'Ian']"
      ],
      "execution_count": 0,
      "outputs": []
    },
    {
      "cell_type": "code",
      "metadata": {
        "id": "bcq_rZpyxClf",
        "colab_type": "code",
        "outputId": "484977b6-910a-46cc-b267-81c307ee3706",
        "colab": {}
      },
      "source": [
        "['asap', 3]"
      ],
      "execution_count": 0,
      "outputs": [
        {
          "output_type": "execute_result",
          "data": {
            "text/plain": [
              "['asap', 3]"
            ]
          },
          "metadata": {
            "tags": []
          },
          "execution_count": 90
        }
      ]
    },
    {
      "cell_type": "code",
      "metadata": {
        "id": "p_53PxHgxCli",
        "colab_type": "code",
        "outputId": "62b007b5-3dac-4b53-b2d0-dac5551b3fc9",
        "colab": {}
      },
      "source": [
        "list('word')"
      ],
      "execution_count": 0,
      "outputs": [
        {
          "output_type": "execute_result",
          "data": {
            "text/plain": [
              "['w', 'o', 'r', 'd']"
            ]
          },
          "metadata": {
            "tags": []
          },
          "execution_count": 92
        }
      ]
    },
    {
      "cell_type": "code",
      "metadata": {
        "id": "_2SzCAIdxClk",
        "colab_type": "code",
        "outputId": "b1c9a940-1697-41b9-ccdb-1291cd1550fd",
        "colab": {}
      },
      "source": [
        "[['list'], ['of', 'list']]"
      ],
      "execution_count": 0,
      "outputs": [
        {
          "output_type": "execute_result",
          "data": {
            "text/plain": [
              "[['list'], ['of', 'list']]"
            ]
          },
          "metadata": {
            "tags": []
          },
          "execution_count": 93
        }
      ]
    },
    {
      "cell_type": "code",
      "metadata": {
        "id": "289CuVutxCll",
        "colab_type": "code",
        "outputId": "7c662e33-c072-4f25-f9ed-2966195ca32a",
        "colab": {}
      },
      "source": [
        "list(('a', 1))"
      ],
      "execution_count": 0,
      "outputs": [
        {
          "output_type": "execute_result",
          "data": {
            "text/plain": [
              "['a', 1]"
            ]
          },
          "metadata": {
            "tags": []
          },
          "execution_count": 95
        }
      ]
    },
    {
      "cell_type": "code",
      "metadata": {
        "id": "6buGQvSnxCln",
        "colab_type": "code",
        "outputId": "230d2f59-d00e-4407-c996-db112eceac78",
        "colab": {}
      },
      "source": [
        "a = ['hello', 3]\n",
        "a[0] + 'world'"
      ],
      "execution_count": 0,
      "outputs": [
        {
          "output_type": "execute_result",
          "data": {
            "text/plain": [
              "'helloworld'"
            ]
          },
          "metadata": {
            "tags": []
          },
          "execution_count": 97
        }
      ]
    },
    {
      "cell_type": "code",
      "metadata": {
        "id": "IX7x_K2LxClq",
        "colab_type": "code",
        "outputId": "ff8e9d1f-76fb-4c10-9b6f-fd8a9a768bd6",
        "colab": {}
      },
      "source": [
        "a[1] + 10"
      ],
      "execution_count": 0,
      "outputs": [
        {
          "output_type": "execute_result",
          "data": {
            "text/plain": [
              "13"
            ]
          },
          "metadata": {
            "tags": []
          },
          "execution_count": 99
        }
      ]
    },
    {
      "cell_type": "code",
      "metadata": {
        "id": "Jhvtu2VrxClt",
        "colab_type": "code",
        "colab": {}
      },
      "source": [
        "a = [5,6,7,'s']"
      ],
      "execution_count": 0,
      "outputs": []
    },
    {
      "cell_type": "code",
      "metadata": {
        "id": "2Yg2PFLKxClv",
        "colab_type": "code",
        "outputId": "46d5e0ef-d142-4058-d92a-0fd3b046fd90",
        "colab": {}
      },
      "source": [
        "a[0]"
      ],
      "execution_count": 0,
      "outputs": [
        {
          "output_type": "execute_result",
          "data": {
            "text/plain": [
              "5"
            ]
          },
          "metadata": {
            "tags": []
          },
          "execution_count": 101
        }
      ]
    },
    {
      "cell_type": "code",
      "metadata": {
        "id": "AUwIIfNUxCly",
        "colab_type": "code",
        "outputId": "c2ea6cd8-468f-4dac-9fa0-5abd7a283ec8",
        "colab": {}
      },
      "source": [
        "a[1]"
      ],
      "execution_count": 0,
      "outputs": [
        {
          "output_type": "execute_result",
          "data": {
            "text/plain": [
              "6"
            ]
          },
          "metadata": {
            "tags": []
          },
          "execution_count": 102
        }
      ]
    },
    {
      "cell_type": "code",
      "metadata": {
        "id": "LHPqcpVzxCl1",
        "colab_type": "code",
        "outputId": "6d03feee-58af-4378-fdb0-2888adba6de8",
        "colab": {}
      },
      "source": [
        "a[-1]"
      ],
      "execution_count": 0,
      "outputs": [
        {
          "output_type": "execute_result",
          "data": {
            "text/plain": [
              "'s'"
            ]
          },
          "metadata": {
            "tags": []
          },
          "execution_count": 103
        }
      ]
    },
    {
      "cell_type": "code",
      "metadata": {
        "id": "RAx-HPptxCl3",
        "colab_type": "code",
        "outputId": "90d66dc2-abaa-4884-c7fd-c1f4140d5327",
        "colab": {}
      },
      "source": [
        "a[0:3]"
      ],
      "execution_count": 0,
      "outputs": [
        {
          "output_type": "execute_result",
          "data": {
            "text/plain": [
              "[5, 6, 7]"
            ]
          },
          "metadata": {
            "tags": []
          },
          "execution_count": 104
        }
      ]
    },
    {
      "cell_type": "code",
      "metadata": {
        "id": "xo_eErvbxCl_",
        "colab_type": "code",
        "outputId": "f4a8f0e4-d785-4cc1-872c-53487e8ce79c",
        "colab": {}
      },
      "source": [
        "# for(i= 0 ; i <len(s); i +=2)\n",
        "a[0:4:2]\n",
        "a[::2]"
      ],
      "execution_count": 0,
      "outputs": [
        {
          "output_type": "execute_result",
          "data": {
            "text/plain": [
              "[5, 7]"
            ]
          },
          "metadata": {
            "tags": []
          },
          "execution_count": 107
        }
      ]
    },
    {
      "cell_type": "code",
      "metadata": {
        "id": "qPDs9bgsxCmC",
        "colab_type": "code",
        "outputId": "0225aab7-102c-4962-f812-ded23ad3c8a1",
        "colab": {}
      },
      "source": [
        "a[::-1]"
      ],
      "execution_count": 0,
      "outputs": [
        {
          "output_type": "execute_result",
          "data": {
            "text/plain": [
              "['s', 7, 6, 5]"
            ]
          },
          "metadata": {
            "tags": []
          },
          "execution_count": 109
        }
      ]
    },
    {
      "cell_type": "code",
      "metadata": {
        "id": "iVnR08_nxCmD",
        "colab_type": "code",
        "outputId": "897f66f3-4356-4115-ebde-846142abab20",
        "colab": {}
      },
      "source": [
        "len(a)"
      ],
      "execution_count": 0,
      "outputs": [
        {
          "output_type": "execute_result",
          "data": {
            "text/plain": [
              "4"
            ]
          },
          "metadata": {
            "tags": []
          },
          "execution_count": 110
        }
      ]
    },
    {
      "cell_type": "code",
      "metadata": {
        "id": "HWeSaAgcxCmI",
        "colab_type": "code",
        "colab": {}
      },
      "source": [
        "a = [5,6,7,8]"
      ],
      "execution_count": 0,
      "outputs": []
    },
    {
      "cell_type": "code",
      "metadata": {
        "id": "_sDze5SUxCmL",
        "colab_type": "code",
        "outputId": "5463646a-e26d-425a-b1a7-fe01645d545a",
        "colab": {}
      },
      "source": [
        "a.pop()"
      ],
      "execution_count": 0,
      "outputs": [
        {
          "output_type": "execute_result",
          "data": {
            "text/plain": [
              "8"
            ]
          },
          "metadata": {
            "tags": []
          },
          "execution_count": 112
        }
      ]
    },
    {
      "cell_type": "code",
      "metadata": {
        "id": "ZBnlr-RpxCmO",
        "colab_type": "code",
        "colab": {}
      },
      "source": [
        "?a.pop"
      ],
      "execution_count": 0,
      "outputs": []
    },
    {
      "cell_type": "code",
      "metadata": {
        "id": "LIa-6VU3xCmQ",
        "colab_type": "code",
        "outputId": "7209968c-e2ab-4bfe-abb0-6dc77cc3425f",
        "colab": {}
      },
      "source": [
        "a"
      ],
      "execution_count": 0,
      "outputs": [
        {
          "output_type": "execute_result",
          "data": {
            "text/plain": [
              "[5, 6, 7]"
            ]
          },
          "metadata": {
            "tags": []
          },
          "execution_count": 114
        }
      ]
    },
    {
      "cell_type": "code",
      "metadata": {
        "id": "cpZI7ZoYxCmS",
        "colab_type": "code",
        "colab": {}
      },
      "source": [
        "a.append(2)"
      ],
      "execution_count": 0,
      "outputs": []
    },
    {
      "cell_type": "code",
      "metadata": {
        "id": "zlYwjDoWxCmW",
        "colab_type": "code",
        "outputId": "06420454-340e-4550-b2dd-6ece8841cbfa",
        "colab": {}
      },
      "source": [
        "a"
      ],
      "execution_count": 0,
      "outputs": [
        {
          "output_type": "execute_result",
          "data": {
            "text/plain": [
              "[5, 6, 7, 2]"
            ]
          },
          "metadata": {
            "tags": []
          },
          "execution_count": 116
        }
      ]
    },
    {
      "cell_type": "code",
      "metadata": {
        "id": "3ZVF30ACxCmY",
        "colab_type": "code",
        "colab": {}
      },
      "source": [
        "a.sort()"
      ],
      "execution_count": 0,
      "outputs": []
    },
    {
      "cell_type": "code",
      "metadata": {
        "id": "bXELVsgMxCmb",
        "colab_type": "code",
        "outputId": "85013250-ed70-48fc-9155-a781e0e875f8",
        "colab": {}
      },
      "source": [
        "a"
      ],
      "execution_count": 0,
      "outputs": [
        {
          "output_type": "execute_result",
          "data": {
            "text/plain": [
              "[2, 5, 6, 7]"
            ]
          },
          "metadata": {
            "tags": []
          },
          "execution_count": 118
        }
      ]
    },
    {
      "cell_type": "code",
      "metadata": {
        "id": "q3tUAXo-xCmc",
        "colab_type": "code",
        "colab": {}
      },
      "source": [
        "a.reverse()"
      ],
      "execution_count": 0,
      "outputs": []
    },
    {
      "cell_type": "code",
      "metadata": {
        "id": "7KCQ99joxCmh",
        "colab_type": "code",
        "outputId": "013ae17a-f17b-4e54-d920-573d0fe8d9b9",
        "colab": {}
      },
      "source": [
        "a"
      ],
      "execution_count": 0,
      "outputs": [
        {
          "output_type": "execute_result",
          "data": {
            "text/plain": [
              "[7, 6, 5, 2]"
            ]
          },
          "metadata": {
            "tags": []
          },
          "execution_count": 120
        }
      ]
    },
    {
      "cell_type": "code",
      "metadata": {
        "id": "GC_-nhlmxCmj",
        "colab_type": "code",
        "outputId": "5d591f49-c8b8-4d89-fb1e-dcacde0d5af7",
        "colab": {}
      },
      "source": [
        "a = 'hello world'\n",
        "list(a)"
      ],
      "execution_count": 0,
      "outputs": [
        {
          "output_type": "execute_result",
          "data": {
            "text/plain": [
              "['h', 'e', 'l', 'l', 'o', ' ', 'w', 'o', 'r', 'l', 'd']"
            ]
          },
          "metadata": {
            "tags": []
          },
          "execution_count": 121
        }
      ]
    },
    {
      "cell_type": "code",
      "metadata": {
        "id": "hddzxYQMxCml",
        "colab_type": "code",
        "outputId": "30e798d2-fbd4-4c94-b358-de3210d46f30",
        "colab": {}
      },
      "source": [
        "'a' in list(a)"
      ],
      "execution_count": 0,
      "outputs": [
        {
          "output_type": "execute_result",
          "data": {
            "text/plain": [
              "False"
            ]
          },
          "metadata": {
            "tags": []
          },
          "execution_count": 123
        }
      ]
    },
    {
      "cell_type": "code",
      "metadata": {
        "id": "Bw3kCWVtxCmt",
        "colab_type": "code",
        "outputId": "db19ec2c-27ee-44c1-d973-a13d3cd9e4d9",
        "colab": {}
      },
      "source": [
        "'e' in list(a)"
      ],
      "execution_count": 0,
      "outputs": [
        {
          "output_type": "execute_result",
          "data": {
            "text/plain": [
              "True"
            ]
          },
          "metadata": {
            "tags": []
          },
          "execution_count": 124
        }
      ]
    },
    {
      "cell_type": "code",
      "metadata": {
        "id": "vbBjgohMxCmw",
        "colab_type": "code",
        "colab": {}
      },
      "source": [
        "a = [1,2,3]\n",
        "aa = a"
      ],
      "execution_count": 0,
      "outputs": []
    },
    {
      "cell_type": "code",
      "metadata": {
        "id": "A5xr1OfvxCmy",
        "colab_type": "code",
        "outputId": "563e0ec3-7fca-4085-ee77-d6fbe5971b0b",
        "colab": {}
      },
      "source": [
        "a"
      ],
      "execution_count": 0,
      "outputs": [
        {
          "output_type": "execute_result",
          "data": {
            "text/plain": [
              "[1, 2, 3]"
            ]
          },
          "metadata": {
            "tags": []
          },
          "execution_count": 126
        }
      ]
    },
    {
      "cell_type": "code",
      "metadata": {
        "id": "tlxLrVAJxCm0",
        "colab_type": "code",
        "outputId": "24cf33b6-c38f-40e6-dd42-563d944d0c5d",
        "colab": {}
      },
      "source": [
        "aa"
      ],
      "execution_count": 0,
      "outputs": [
        {
          "output_type": "execute_result",
          "data": {
            "text/plain": [
              "[1, 2, 3]"
            ]
          },
          "metadata": {
            "tags": []
          },
          "execution_count": 127
        }
      ]
    },
    {
      "cell_type": "code",
      "metadata": {
        "id": "FofWRJV-xCm2",
        "colab_type": "code",
        "colab": {}
      },
      "source": [
        "aa[1] = 2000"
      ],
      "execution_count": 0,
      "outputs": []
    },
    {
      "cell_type": "code",
      "metadata": {
        "id": "-09C_9c4xCm4",
        "colab_type": "code",
        "outputId": "fdaa5a86-a5a1-41f4-9214-0d248ae1cdac",
        "colab": {}
      },
      "source": [
        "aa"
      ],
      "execution_count": 0,
      "outputs": [
        {
          "output_type": "execute_result",
          "data": {
            "text/plain": [
              "[1, 2000, 3]"
            ]
          },
          "metadata": {
            "tags": []
          },
          "execution_count": 129
        }
      ]
    },
    {
      "cell_type": "code",
      "metadata": {
        "id": "zUCSTeULxCm5",
        "colab_type": "code",
        "outputId": "3ec3b953-89f6-442f-a238-2f8ecb61be63",
        "colab": {}
      },
      "source": [
        "a"
      ],
      "execution_count": 0,
      "outputs": [
        {
          "output_type": "execute_result",
          "data": {
            "text/plain": [
              "[1, 2000, 3]"
            ]
          },
          "metadata": {
            "tags": []
          },
          "execution_count": 130
        }
      ]
    },
    {
      "cell_type": "code",
      "metadata": {
        "id": "_KLu3oFmxCm-",
        "colab_type": "code",
        "colab": {}
      },
      "source": [
        "a = [1,2,3]"
      ],
      "execution_count": 0,
      "outputs": []
    },
    {
      "cell_type": "code",
      "metadata": {
        "id": "lRe8ZdywxCnB",
        "colab_type": "code",
        "colab": {}
      },
      "source": [
        "aa = a.copy()"
      ],
      "execution_count": 0,
      "outputs": []
    },
    {
      "cell_type": "code",
      "metadata": {
        "id": "4kxEUvOmxCnD",
        "colab_type": "code",
        "colab": {}
      },
      "source": [
        "aa[1] = 2000"
      ],
      "execution_count": 0,
      "outputs": []
    },
    {
      "cell_type": "code",
      "metadata": {
        "id": "7JRq-chCxCnG",
        "colab_type": "code",
        "outputId": "735a4bd2-5fa1-4cd5-8fc3-e01837d0aa03",
        "colab": {}
      },
      "source": [
        "aa"
      ],
      "execution_count": 0,
      "outputs": [
        {
          "output_type": "execute_result",
          "data": {
            "text/plain": [
              "[1, 2000, 3]"
            ]
          },
          "metadata": {
            "tags": []
          },
          "execution_count": 134
        }
      ]
    },
    {
      "cell_type": "code",
      "metadata": {
        "id": "jb9edCLvxCnJ",
        "colab_type": "code",
        "outputId": "75647a16-d7aa-4198-fd56-428730b53e70",
        "colab": {}
      },
      "source": [
        "a"
      ],
      "execution_count": 0,
      "outputs": [
        {
          "output_type": "execute_result",
          "data": {
            "text/plain": [
              "[1, 2, 3]"
            ]
          },
          "metadata": {
            "tags": []
          },
          "execution_count": 135
        }
      ]
    },
    {
      "cell_type": "markdown",
      "metadata": {
        "id": "yF7Vnr5jxCnS",
        "colab_type": "text"
      },
      "source": [
        "## Dictionary"
      ]
    },
    {
      "cell_type": "code",
      "metadata": {
        "id": "JkIBknCrxCnT",
        "colab_type": "code",
        "outputId": "7ddbd96d-5a00-42ba-85a3-4fdd4a02c3c8",
        "colab": {}
      },
      "source": [
        "a = [1,2,3,1,2,2,1,2,3,4,2,1,2]\n",
        "a.index(4)"
      ],
      "execution_count": 0,
      "outputs": [
        {
          "output_type": "execute_result",
          "data": {
            "text/plain": [
              "9"
            ]
          },
          "metadata": {
            "tags": []
          },
          "execution_count": 138
        }
      ]
    },
    {
      "cell_type": "code",
      "metadata": {
        "id": "2SOhAEq7xCnU",
        "colab_type": "code",
        "colab": {}
      },
      "source": [
        "dic= {'a':100, 'b': 'yes', 'c':0.98}"
      ],
      "execution_count": 0,
      "outputs": []
    },
    {
      "cell_type": "code",
      "metadata": {
        "id": "AkSuu_lOxCnX",
        "colab_type": "code",
        "outputId": "33fc7ec6-c239-47d0-fb00-63e43e6d1f96",
        "colab": {}
      },
      "source": [
        "dic.keys()"
      ],
      "execution_count": 0,
      "outputs": [
        {
          "output_type": "execute_result",
          "data": {
            "text/plain": [
              "dict_keys(['a', 'b', 'c'])"
            ]
          },
          "metadata": {
            "tags": []
          },
          "execution_count": 140
        }
      ]
    },
    {
      "cell_type": "code",
      "metadata": {
        "id": "48cRHJ7txCnZ",
        "colab_type": "code",
        "outputId": "291a91c4-bc0c-46ea-cc47-f32ee6beef80",
        "colab": {}
      },
      "source": [
        "dic.values()"
      ],
      "execution_count": 0,
      "outputs": [
        {
          "output_type": "execute_result",
          "data": {
            "text/plain": [
              "dict_values([100, 'yes', 0.98])"
            ]
          },
          "metadata": {
            "tags": []
          },
          "execution_count": 142
        }
      ]
    },
    {
      "cell_type": "code",
      "metadata": {
        "id": "DDCh_LjmxCnc",
        "colab_type": "code",
        "outputId": "feb8da19-a274-48b4-bc45-7d5df5ede853",
        "colab": {}
      },
      "source": [
        "dic['a']"
      ],
      "execution_count": 0,
      "outputs": [
        {
          "output_type": "execute_result",
          "data": {
            "text/plain": [
              "100"
            ]
          },
          "metadata": {
            "tags": []
          },
          "execution_count": 143
        }
      ]
    },
    {
      "cell_type": "code",
      "metadata": {
        "id": "BDVFS7ZVxCne",
        "colab_type": "code",
        "outputId": "8cacb7aa-c0eb-45c9-8023-27e5e141a13b",
        "colab": {}
      },
      "source": [
        "dic['d']"
      ],
      "execution_count": 0,
      "outputs": [
        {
          "output_type": "error",
          "ename": "KeyError",
          "evalue": "'d'",
          "traceback": [
            "\u001b[1;31m---------------------------------------------------------------------------\u001b[0m",
            "\u001b[1;31mKeyError\u001b[0m                                  Traceback (most recent call last)",
            "\u001b[1;32m<ipython-input-144-2b1b63ca196d>\u001b[0m in \u001b[0;36m<module>\u001b[1;34m\u001b[0m\n\u001b[1;32m----> 1\u001b[1;33m \u001b[0mdic\u001b[0m\u001b[1;33m[\u001b[0m\u001b[1;34m'd'\u001b[0m\u001b[1;33m]\u001b[0m\u001b[1;33m\u001b[0m\u001b[1;33m\u001b[0m\u001b[0m\n\u001b[0m",
            "\u001b[1;31mKeyError\u001b[0m: 'd'"
          ]
        }
      ]
    },
    {
      "cell_type": "code",
      "metadata": {
        "id": "gQZsF8tlxCng",
        "colab_type": "code",
        "outputId": "8590ebe0-cec4-41ee-cbbc-d3fc3f89cc0b",
        "colab": {}
      },
      "source": [
        "dic.get('a')"
      ],
      "execution_count": 0,
      "outputs": [
        {
          "output_type": "execute_result",
          "data": {
            "text/plain": [
              "100"
            ]
          },
          "metadata": {
            "tags": []
          },
          "execution_count": 146
        }
      ]
    },
    {
      "cell_type": "code",
      "metadata": {
        "id": "2igGHZ3PxCni",
        "colab_type": "code",
        "colab": {}
      },
      "source": [
        "dic.get('d')"
      ],
      "execution_count": 0,
      "outputs": []
    },
    {
      "cell_type": "code",
      "metadata": {
        "id": "9Bt7JWM6xCnj",
        "colab_type": "code",
        "colab": {}
      },
      "source": [
        "?dic.get"
      ],
      "execution_count": 0,
      "outputs": []
    },
    {
      "cell_type": "code",
      "metadata": {
        "id": "KXTRSdkuxCnk",
        "colab_type": "code",
        "outputId": "6c1bac68-a0fe-4d79-e99f-7dfeaad8b3b8",
        "colab": {}
      },
      "source": [
        "print(dic.get('d'))"
      ],
      "execution_count": 0,
      "outputs": [
        {
          "output_type": "stream",
          "text": [
            "None\n"
          ],
          "name": "stdout"
        }
      ]
    },
    {
      "cell_type": "code",
      "metadata": {
        "id": "VPLg5mWExCnl",
        "colab_type": "code",
        "outputId": "fde8b303-5533-41a3-dfb0-bbefa5f07adf",
        "colab": {}
      },
      "source": [
        "print(dic.get('d', 'NOT FOUND'))"
      ],
      "execution_count": 0,
      "outputs": [
        {
          "output_type": "stream",
          "text": [
            "NOT FOUND\n"
          ],
          "name": "stdout"
        }
      ]
    },
    {
      "cell_type": "code",
      "metadata": {
        "id": "cFCF8ps8xCnn",
        "colab_type": "code",
        "colab": {}
      },
      "source": [
        "dic['d'] = 'NEW'"
      ],
      "execution_count": 0,
      "outputs": []
    },
    {
      "cell_type": "code",
      "metadata": {
        "id": "ewQsfI5ExCno",
        "colab_type": "code",
        "outputId": "e13d5771-d8a4-429e-d9bf-8721d1aed622",
        "colab": {}
      },
      "source": [
        "dic"
      ],
      "execution_count": 0,
      "outputs": [
        {
          "output_type": "execute_result",
          "data": {
            "text/plain": [
              "{'a': 100, 'b': 'yes', 'c': 0.98, 'd': 'NEW'}"
            ]
          },
          "metadata": {
            "tags": []
          },
          "execution_count": 152
        }
      ]
    },
    {
      "cell_type": "code",
      "metadata": {
        "id": "O2Ca2AMUxCnr",
        "colab_type": "code",
        "colab": {}
      },
      "source": [
        "dic2 = {'c':1.0, 'd':'OLD', 'e': 'Good'}\n",
        "dic.update(dic2)"
      ],
      "execution_count": 0,
      "outputs": []
    },
    {
      "cell_type": "code",
      "metadata": {
        "id": "VvqAST7sxCnx",
        "colab_type": "code",
        "outputId": "c0810b1f-fd6e-4f4a-de74-2ea3d460ee28",
        "colab": {}
      },
      "source": [
        "dic"
      ],
      "execution_count": 0,
      "outputs": [
        {
          "output_type": "execute_result",
          "data": {
            "text/plain": [
              "{'a': 100, 'b': 'yes', 'c': 1.0, 'd': 'OLD', 'e': 'Good'}"
            ]
          },
          "metadata": {
            "tags": []
          },
          "execution_count": 154
        }
      ]
    },
    {
      "cell_type": "code",
      "metadata": {
        "id": "fe6STWaLxCn0",
        "colab_type": "code",
        "colab": {}
      },
      "source": [
        "dic['e'] = 'Bad'"
      ],
      "execution_count": 0,
      "outputs": []
    },
    {
      "cell_type": "code",
      "metadata": {
        "id": "rZ7WiTpTxCn3",
        "colab_type": "code",
        "outputId": "cd65ca59-5347-494f-9efe-2031d937259a",
        "colab": {}
      },
      "source": [
        "dic"
      ],
      "execution_count": 0,
      "outputs": [
        {
          "output_type": "execute_result",
          "data": {
            "text/plain": [
              "{'a': 100, 'b': 'yes', 'c': 1.0, 'd': 'OLD', 'e': 'Bad'}"
            ]
          },
          "metadata": {
            "tags": []
          },
          "execution_count": 157
        }
      ]
    },
    {
      "cell_type": "code",
      "metadata": {
        "id": "5qcQVFzZxCn6",
        "colab_type": "code",
        "colab": {}
      },
      "source": [
        "qa = {\n",
        "  '早安': '你也早安',\n",
        "  '吃飽沒': '吃飽了',\n",
        "  '掰掰': '明天見'\n",
        "}"
      ],
      "execution_count": 0,
      "outputs": []
    },
    {
      "cell_type": "code",
      "metadata": {
        "id": "D_ZTo2ifxCn9",
        "colab_type": "code",
        "outputId": "c225e7e7-7e78-4857-8dec-1844342eeac5",
        "colab": {}
      },
      "source": [
        "qa.get('吃飽沒')"
      ],
      "execution_count": 0,
      "outputs": [
        {
          "output_type": "execute_result",
          "data": {
            "text/plain": [
              "'吃飽了'"
            ]
          },
          "metadata": {
            "tags": []
          },
          "execution_count": 160
        }
      ]
    },
    {
      "cell_type": "code",
      "metadata": {
        "id": "5h_CtyFDxCn-",
        "colab_type": "code",
        "outputId": "94845bcb-4d33-4d06-b179-cb44f9acdfcf",
        "colab": {}
      },
      "source": [
        "question = input('請輸入你的問題:')\n",
        "question"
      ],
      "execution_count": 0,
      "outputs": [
        {
          "output_type": "stream",
          "text": [
            "請輸入你的問題:你好嗎\n"
          ],
          "name": "stdout"
        },
        {
          "output_type": "execute_result",
          "data": {
            "text/plain": [
              "'你好嗎'"
            ]
          },
          "metadata": {
            "tags": []
          },
          "execution_count": 161
        }
      ]
    },
    {
      "cell_type": "code",
      "metadata": {
        "id": "yG7wzaCaxCoA",
        "colab_type": "code",
        "outputId": "67f1ed2d-1021-40bb-a8a6-bb97cfcaacaa",
        "colab": {}
      },
      "source": [
        "question = input('請輸入你的問題:')\n",
        "qa.get(question, '我現在還不聰明, 等我以後變聰明以後,再告訴你')"
      ],
      "execution_count": 0,
      "outputs": [
        {
          "output_type": "stream",
          "text": [
            "請輸入你的問題:掰掰\n"
          ],
          "name": "stdout"
        },
        {
          "output_type": "execute_result",
          "data": {
            "text/plain": [
              "'明天見'"
            ]
          },
          "metadata": {
            "tags": []
          },
          "execution_count": 166
        }
      ]
    },
    {
      "cell_type": "markdown",
      "metadata": {
        "id": "ATOm58oSxCoB",
        "colab_type": "text"
      },
      "source": [
        "## Tuples"
      ]
    },
    {
      "cell_type": "code",
      "metadata": {
        "id": "H9PSH98yxCoC",
        "colab_type": "code",
        "colab": {}
      },
      "source": [
        "l = [1,2,3]\n",
        "t = 1,2,3\n",
        "t1 = (1,2,3)"
      ],
      "execution_count": 0,
      "outputs": []
    },
    {
      "cell_type": "code",
      "metadata": {
        "id": "KzpmD4CAxCoE",
        "colab_type": "code",
        "outputId": "84328bc4-787f-4a1b-e83d-7b2c6f9685f4",
        "colab": {}
      },
      "source": [
        "l"
      ],
      "execution_count": 0,
      "outputs": [
        {
          "output_type": "execute_result",
          "data": {
            "text/plain": [
              "[1, 2, 3]"
            ]
          },
          "metadata": {
            "tags": []
          },
          "execution_count": 168
        }
      ]
    },
    {
      "cell_type": "code",
      "metadata": {
        "id": "zpm6808gxCoG",
        "colab_type": "code",
        "outputId": "fe2ff523-139a-4479-e91f-1ed3a0034c9b",
        "colab": {}
      },
      "source": [
        "t"
      ],
      "execution_count": 0,
      "outputs": [
        {
          "output_type": "execute_result",
          "data": {
            "text/plain": [
              "(1, 2, 3)"
            ]
          },
          "metadata": {
            "tags": []
          },
          "execution_count": 169
        }
      ]
    },
    {
      "cell_type": "code",
      "metadata": {
        "id": "uORxBxBPxCoK",
        "colab_type": "code",
        "outputId": "ee4bdbe8-21bf-406f-cc0a-ef7c8fadb7ae",
        "colab": {}
      },
      "source": [
        "t1"
      ],
      "execution_count": 0,
      "outputs": [
        {
          "output_type": "execute_result",
          "data": {
            "text/plain": [
              "(1, 2, 3)"
            ]
          },
          "metadata": {
            "tags": []
          },
          "execution_count": 170
        }
      ]
    },
    {
      "cell_type": "code",
      "metadata": {
        "id": "3aNKJoRhxCoN",
        "colab_type": "code",
        "outputId": "8042a938-488f-4e58-8a72-71762ea7464a",
        "colab": {}
      },
      "source": [
        "print(dir(l))"
      ],
      "execution_count": 0,
      "outputs": [
        {
          "output_type": "stream",
          "text": [
            "['__add__', '__class__', '__contains__', '__delattr__', '__delitem__', '__dir__', '__doc__', '__eq__', '__format__', '__ge__', '__getattribute__', '__getitem__', '__gt__', '__hash__', '__iadd__', '__imul__', '__init__', '__init_subclass__', '__iter__', '__le__', '__len__', '__lt__', '__mul__', '__ne__', '__new__', '__reduce__', '__reduce_ex__', '__repr__', '__reversed__', '__rmul__', '__setattr__', '__setitem__', '__sizeof__', '__str__', '__subclasshook__', 'append', 'clear', 'copy', 'count', 'extend', 'index', 'insert', 'pop', 'remove', 'reverse', 'sort']\n"
          ],
          "name": "stdout"
        }
      ]
    },
    {
      "cell_type": "code",
      "metadata": {
        "id": "gihl0jPyxCoR",
        "colab_type": "code",
        "outputId": "7b222dc7-7922-45c1-cf5e-9d3b1d10561a",
        "colab": {}
      },
      "source": [
        "print(dir(t))"
      ],
      "execution_count": 0,
      "outputs": [
        {
          "output_type": "stream",
          "text": [
            "['__add__', '__class__', '__contains__', '__delattr__', '__dir__', '__doc__', '__eq__', '__format__', '__ge__', '__getattribute__', '__getitem__', '__getnewargs__', '__gt__', '__hash__', '__init__', '__init_subclass__', '__iter__', '__le__', '__len__', '__lt__', '__mul__', '__ne__', '__new__', '__reduce__', '__reduce_ex__', '__repr__', '__rmul__', '__setattr__', '__sizeof__', '__str__', '__subclasshook__', 'count', 'index']\n"
          ],
          "name": "stdout"
        }
      ]
    },
    {
      "cell_type": "code",
      "metadata": {
        "id": "uczRGWuGxCoT",
        "colab_type": "code",
        "colab": {}
      },
      "source": [
        "t = ('one',2)"
      ],
      "execution_count": 0,
      "outputs": []
    },
    {
      "cell_type": "code",
      "metadata": {
        "id": "9zsOAiRjxCoV",
        "colab_type": "code",
        "outputId": "2ab1d677-0626-4af2-eb3a-37c1c03790df",
        "colab": {}
      },
      "source": [
        "t[0]"
      ],
      "execution_count": 0,
      "outputs": [
        {
          "output_type": "execute_result",
          "data": {
            "text/plain": [
              "'one'"
            ]
          },
          "metadata": {
            "tags": []
          },
          "execution_count": 175
        }
      ]
    },
    {
      "cell_type": "code",
      "metadata": {
        "id": "yc2ndEaXxCoY",
        "colab_type": "code",
        "outputId": "50ac35ff-4922-475b-c3d5-9c11321558ac",
        "colab": {}
      },
      "source": [
        "t[-1]"
      ],
      "execution_count": 0,
      "outputs": [
        {
          "output_type": "execute_result",
          "data": {
            "text/plain": [
              "2"
            ]
          },
          "metadata": {
            "tags": []
          },
          "execution_count": 176
        }
      ]
    },
    {
      "cell_type": "code",
      "metadata": {
        "id": "em1wt2B5xCoa",
        "colab_type": "code",
        "outputId": "03e5567c-665f-46bd-df64-6f0cf2bb0436",
        "colab": {}
      },
      "source": [
        "len(t)"
      ],
      "execution_count": 0,
      "outputs": [
        {
          "output_type": "execute_result",
          "data": {
            "text/plain": [
              "2"
            ]
          },
          "metadata": {
            "tags": []
          },
          "execution_count": 177
        }
      ]
    },
    {
      "cell_type": "code",
      "metadata": {
        "id": "EySXimetxCoc",
        "colab_type": "code",
        "outputId": "14200423-617e-400d-d3db-18ec1239973f",
        "colab": {}
      },
      "source": [
        "t[0] = 'two'"
      ],
      "execution_count": 0,
      "outputs": [
        {
          "output_type": "error",
          "ename": "TypeError",
          "evalue": "'tuple' object does not support item assignment",
          "traceback": [
            "\u001b[1;31m---------------------------------------------------------------------------\u001b[0m",
            "\u001b[1;31mTypeError\u001b[0m                                 Traceback (most recent call last)",
            "\u001b[1;32m<ipython-input-179-9bdf9c18f60b>\u001b[0m in \u001b[0;36m<module>\u001b[1;34m\u001b[0m\n\u001b[1;32m----> 1\u001b[1;33m \u001b[0mt\u001b[0m\u001b[1;33m[\u001b[0m\u001b[1;36m0\u001b[0m\u001b[1;33m]\u001b[0m \u001b[1;33m=\u001b[0m \u001b[1;34m'two'\u001b[0m\u001b[1;33m\u001b[0m\u001b[1;33m\u001b[0m\u001b[0m\n\u001b[0m",
            "\u001b[1;31mTypeError\u001b[0m: 'tuple' object does not support item assignment"
          ]
        }
      ]
    },
    {
      "cell_type": "code",
      "metadata": {
        "id": "wOYM6OLXxCoj",
        "colab_type": "code",
        "outputId": "b94c2928-04c4-4cb4-8675-f9873a0b4185",
        "colab": {}
      },
      "source": [
        "t.append(2)"
      ],
      "execution_count": 0,
      "outputs": [
        {
          "output_type": "error",
          "ename": "AttributeError",
          "evalue": "'tuple' object has no attribute 'append'",
          "traceback": [
            "\u001b[1;31m---------------------------------------------------------------------------\u001b[0m",
            "\u001b[1;31mAttributeError\u001b[0m                            Traceback (most recent call last)",
            "\u001b[1;32m<ipython-input-180-1b86797e75d8>\u001b[0m in \u001b[0;36m<module>\u001b[1;34m\u001b[0m\n\u001b[1;32m----> 1\u001b[1;33m \u001b[0mt\u001b[0m\u001b[1;33m.\u001b[0m\u001b[0mappend\u001b[0m\u001b[1;33m(\u001b[0m\u001b[1;36m2\u001b[0m\u001b[1;33m)\u001b[0m\u001b[1;33m\u001b[0m\u001b[1;33m\u001b[0m\u001b[0m\n\u001b[0m",
            "\u001b[1;31mAttributeError\u001b[0m: 'tuple' object has no attribute 'append'"
          ]
        }
      ]
    },
    {
      "cell_type": "code",
      "metadata": {
        "id": "7O0YsHdfxCol",
        "colab_type": "code",
        "colab": {}
      },
      "source": [
        "a = 1\n",
        "b = 2"
      ],
      "execution_count": 0,
      "outputs": []
    },
    {
      "cell_type": "code",
      "metadata": {
        "id": "1M827x_TxCoq",
        "colab_type": "code",
        "colab": {}
      },
      "source": [
        "a,b = 1,2"
      ],
      "execution_count": 0,
      "outputs": []
    },
    {
      "cell_type": "code",
      "metadata": {
        "id": "Xx5_4cqAxCos",
        "colab_type": "code",
        "outputId": "ba431049-81ce-4b11-8922-dacfc1762a84",
        "colab": {}
      },
      "source": [
        "1,2"
      ],
      "execution_count": 0,
      "outputs": [
        {
          "output_type": "execute_result",
          "data": {
            "text/plain": [
              "(1, 2)"
            ]
          },
          "metadata": {
            "tags": []
          },
          "execution_count": 183
        }
      ]
    },
    {
      "cell_type": "code",
      "metadata": {
        "id": "sJsRvr9fxCot",
        "colab_type": "code",
        "colab": {}
      },
      "source": [
        "c = 1,2"
      ],
      "execution_count": 0,
      "outputs": []
    },
    {
      "cell_type": "code",
      "metadata": {
        "id": "rNGC4WchxCo1",
        "colab_type": "code",
        "outputId": "a7eda0c0-4080-45ac-df22-32d7872b35ae",
        "colab": {}
      },
      "source": [
        "c"
      ],
      "execution_count": 0,
      "outputs": [
        {
          "output_type": "execute_result",
          "data": {
            "text/plain": [
              "(1, 2)"
            ]
          },
          "metadata": {
            "tags": []
          },
          "execution_count": 185
        }
      ]
    },
    {
      "cell_type": "code",
      "metadata": {
        "id": "lHbbvlvExCo3",
        "colab_type": "code",
        "outputId": "3d806b7b-2919-4666-bc22-14b5237efec4",
        "colab": {}
      },
      "source": [
        "(a,b) == c"
      ],
      "execution_count": 0,
      "outputs": [
        {
          "output_type": "execute_result",
          "data": {
            "text/plain": [
              "True"
            ]
          },
          "metadata": {
            "tags": []
          },
          "execution_count": 187
        }
      ]
    },
    {
      "cell_type": "markdown",
      "metadata": {
        "id": "RIQ-IVP7xCo5",
        "colab_type": "text"
      },
      "source": [
        "## Loop and Control Flow"
      ]
    },
    {
      "cell_type": "code",
      "metadata": {
        "id": "OY9VxEU0xCo6",
        "colab_type": "code",
        "outputId": "cd027895-c43e-4ecf-d961-af87bcc8c9db",
        "colab": {}
      },
      "source": [
        "a = 5\n",
        "a > 3"
      ],
      "execution_count": 0,
      "outputs": [
        {
          "output_type": "execute_result",
          "data": {
            "text/plain": [
              "True"
            ]
          },
          "metadata": {
            "tags": []
          },
          "execution_count": 188
        }
      ]
    },
    {
      "cell_type": "code",
      "metadata": {
        "id": "eflXHj9QxCpC",
        "colab_type": "code",
        "outputId": "b16b3346-70db-4a55-9455-0fc036406853",
        "colab": {}
      },
      "source": [
        "a < 3"
      ],
      "execution_count": 0,
      "outputs": [
        {
          "output_type": "execute_result",
          "data": {
            "text/plain": [
              "False"
            ]
          },
          "metadata": {
            "tags": []
          },
          "execution_count": 189
        }
      ]
    },
    {
      "cell_type": "code",
      "metadata": {
        "id": "jTUOv2QbxCpF",
        "colab_type": "code",
        "outputId": "aa9a90e2-44e5-44d4-d5fe-a8e3e0beb2e6",
        "colab": {}
      },
      "source": [
        "if a > 3:\n",
        "    print('a is greater than 3')\n",
        "print('For any reason, print this')"
      ],
      "execution_count": 0,
      "outputs": [
        {
          "output_type": "stream",
          "text": [
            "a is greater than 3\n",
            "For any reason, print this\n"
          ],
          "name": "stdout"
        }
      ]
    },
    {
      "cell_type": "code",
      "metadata": {
        "id": "p2IhgFedxCpH",
        "colab_type": "code",
        "outputId": "d1df2e77-196d-464f-f672-8e947e96264f",
        "colab": {}
      },
      "source": [
        "if a < 3:\n",
        "    print('a is less than 3')\n",
        "print('For any reason, print this')"
      ],
      "execution_count": 0,
      "outputs": [
        {
          "output_type": "stream",
          "text": [
            "For any reason, print this\n"
          ],
          "name": "stdout"
        }
      ]
    },
    {
      "cell_type": "code",
      "metadata": {
        "id": "m6nFInJ5xCpL",
        "colab_type": "code",
        "outputId": "6738a720-7369-4d8d-df89-08287396b4a6",
        "colab": {}
      },
      "source": [
        "if a > 3:\n",
        "print('a is greater than 3')"
      ],
      "execution_count": 0,
      "outputs": [
        {
          "output_type": "error",
          "ename": "IndentationError",
          "evalue": "expected an indented block (<ipython-input-195-e9d3ef38fbf2>, line 2)",
          "traceback": [
            "\u001b[1;36m  File \u001b[1;32m\"<ipython-input-195-e9d3ef38fbf2>\"\u001b[1;36m, line \u001b[1;32m2\u001b[0m\n\u001b[1;33m    print('a is greater than 3')\u001b[0m\n\u001b[1;37m        ^\u001b[0m\n\u001b[1;31mIndentationError\u001b[0m\u001b[1;31m:\u001b[0m expected an indented block\n"
          ]
        }
      ]
    },
    {
      "cell_type": "code",
      "metadata": {
        "id": "qdAm_QhPxCpN",
        "colab_type": "code",
        "outputId": "5fe784b2-609d-4d2a-feb2-c10b6162ebef",
        "colab": {}
      },
      "source": [
        "if a > 3:\n",
        "                                                                                                         print('a is greater than 3')"
      ],
      "execution_count": 0,
      "outputs": [
        {
          "output_type": "stream",
          "text": [
            "a is greater than 3\n"
          ],
          "name": "stdout"
        }
      ]
    },
    {
      "cell_type": "code",
      "metadata": {
        "id": "AJO7WGFexCpP",
        "colab_type": "code",
        "outputId": "3a4343f4-08b2-4ecf-e995-080a05bcf6b0",
        "colab": {}
      },
      "source": [
        "for i in range(10):\n",
        "    print(i)"
      ],
      "execution_count": 0,
      "outputs": [
        {
          "output_type": "stream",
          "text": [
            "0\n",
            "1\n",
            "2\n",
            "3\n",
            "4\n",
            "5\n",
            "6\n",
            "7\n",
            "8\n",
            "9\n"
          ],
          "name": "stdout"
        }
      ]
    },
    {
      "cell_type": "code",
      "metadata": {
        "id": "rszTafljxCpS",
        "colab_type": "code",
        "outputId": "b56c7625-4b0d-45c5-a416-3f65ff11d881",
        "colab": {}
      },
      "source": [
        "for qoo in range(10):\n",
        "    print(qoo)"
      ],
      "execution_count": 0,
      "outputs": [
        {
          "output_type": "stream",
          "text": [
            "0\n",
            "1\n",
            "2\n",
            "3\n",
            "4\n",
            "5\n",
            "6\n",
            "7\n",
            "8\n",
            "9\n"
          ],
          "name": "stdout"
        }
      ]
    },
    {
      "cell_type": "code",
      "metadata": {
        "id": "dTrOhxuPxCpX",
        "colab_type": "code",
        "outputId": "560d8a6d-fd3e-47b5-bf89-8fdf1e12ccc3",
        "colab": {}
      },
      "source": [
        "for i in range(10):\n",
        "    if i == 9 :\n",
        "        print('9 is found')\n",
        "    elif i == 8 :\n",
        "        print('8 is found')\n",
        "    else:\n",
        "        print('nothing else')"
      ],
      "execution_count": 0,
      "outputs": [
        {
          "output_type": "stream",
          "text": [
            "nothing else\n",
            "nothing else\n",
            "nothing else\n",
            "nothing else\n",
            "nothing else\n",
            "nothing else\n",
            "nothing else\n",
            "nothing else\n",
            "8 is found\n",
            "9 is found\n"
          ],
          "name": "stdout"
        }
      ]
    },
    {
      "cell_type": "code",
      "metadata": {
        "id": "KPHgOhnGxCpZ",
        "colab_type": "code",
        "outputId": "30fdbec8-e58a-4d32-b6bd-d5ca0f323bb0",
        "colab": {}
      },
      "source": [
        "for i in range(10):\n",
        "    if i == 9 :\n",
        "        print('9 is found')\n",
        "    elif i == 8 :\n",
        "        print('8 is found')\n",
        "        break\n",
        "    else:\n",
        "        print('nothing else')"
      ],
      "execution_count": 0,
      "outputs": [
        {
          "output_type": "stream",
          "text": [
            "nothing else\n",
            "nothing else\n",
            "nothing else\n",
            "nothing else\n",
            "nothing else\n",
            "nothing else\n",
            "nothing else\n",
            "nothing else\n",
            "8 is found\n"
          ],
          "name": "stdout"
        }
      ]
    },
    {
      "cell_type": "code",
      "metadata": {
        "id": "4IS1xP8zxCpa",
        "colab_type": "code",
        "outputId": "c1c835a3-215e-4f8b-d358-4b610b42bfdf",
        "colab": {}
      },
      "source": [
        "for i in range(10):\n",
        "    print(i)"
      ],
      "execution_count": 0,
      "outputs": [
        {
          "output_type": "stream",
          "text": [
            "0\n",
            "1\n",
            "2\n",
            "3\n",
            "4\n",
            "5\n",
            "6\n",
            "7\n",
            "8\n",
            "9\n"
          ],
          "name": "stdout"
        }
      ]
    },
    {
      "cell_type": "code",
      "metadata": {
        "id": "msdieapTxCpc",
        "colab_type": "code",
        "outputId": "415d184b-c637-4393-ca7a-898848121edd",
        "colab": {}
      },
      "source": [
        "for i in range(1,10):\n",
        "    print(i)"
      ],
      "execution_count": 0,
      "outputs": [
        {
          "output_type": "stream",
          "text": [
            "1\n",
            "2\n",
            "3\n",
            "4\n",
            "5\n",
            "6\n",
            "7\n",
            "8\n",
            "9\n"
          ],
          "name": "stdout"
        }
      ]
    },
    {
      "cell_type": "code",
      "metadata": {
        "id": "bmLHIFxdxCpe",
        "colab_type": "code",
        "outputId": "9d354ecb-49c7-4e52-8dd0-075579fa0b01",
        "colab": {}
      },
      "source": [
        "for i in range(1,10,2):\n",
        "    print(i)"
      ],
      "execution_count": 0,
      "outputs": [
        {
          "output_type": "stream",
          "text": [
            "1\n",
            "3\n",
            "5\n",
            "7\n",
            "9\n"
          ],
          "name": "stdout"
        }
      ]
    },
    {
      "cell_type": "code",
      "metadata": {
        "id": "Orh0pCUsxCpf",
        "colab_type": "code",
        "outputId": "4762dcf6-d0b7-4a55-cd8d-01c0871907f7",
        "colab": {}
      },
      "source": [
        "a = [11,22,33,44,55]\n",
        "for i in a:\n",
        "    print(i)"
      ],
      "execution_count": 0,
      "outputs": [
        {
          "output_type": "stream",
          "text": [
            "11\n",
            "22\n",
            "33\n",
            "44\n",
            "55\n"
          ],
          "name": "stdout"
        }
      ]
    },
    {
      "cell_type": "code",
      "metadata": {
        "id": "vBH2-r-7xCpj",
        "colab_type": "code",
        "colab": {}
      },
      "source": [
        "apple = '''\n",
        "要怎麼製造心動？其實只要製造錯覺，就很容易讓兩人產生火花，瞬間天雷勾動地火；阿畫說，若在喜歡的人面前，通常會有心臟砰砰然的跳動，這樣心跳加速的緊張感，其實透過心理學上的「吊橋效應」，同樣也能達到，有研究報告顯示，當男子因跑步而使心跳次數升高，這時就很容易被眼前女子所吸引，由此可見，當人處於亢奮狀態，就可以大幅增加浪漫感覺，進而順利發展情侶關係。想製造適當的緊張感，透過看恐怖電影，玩遊樂園的刺激設施，都是不錯方法，若能在適當時機，來點曖昧的肢體接觸，就能讓對方產生心動錯覺，不妨試試看吧。'''"
      ],
      "execution_count": 0,
      "outputs": []
    },
    {
      "cell_type": "code",
      "metadata": {
        "id": "oiDN0zGUxCpn",
        "colab_type": "code",
        "outputId": "cef38b75-72bb-458b-8c82-76cea721f0d4",
        "colab": {}
      },
      "source": [
        "apple.split('，')"
      ],
      "execution_count": 0,
      "outputs": [
        {
          "output_type": "execute_result",
          "data": {
            "text/plain": [
              "['\\n要怎麼製造心動？其實只要製造錯覺',\n",
              " '就很容易讓兩人產生火花',\n",
              " '瞬間天雷勾動地火；阿畫說',\n",
              " '若在喜歡的人面前',\n",
              " '通常會有心臟砰砰然的跳動',\n",
              " '這樣心跳加速的緊張感',\n",
              " '其實透過心理學上的「吊橋效應」',\n",
              " '同樣也能達到',\n",
              " '有研究報告顯示',\n",
              " '當男子因跑步而使心跳次數升高',\n",
              " '這時就很容易被眼前女子所吸引',\n",
              " '由此可見',\n",
              " '當人處於亢奮狀態',\n",
              " '就可以大幅增加浪漫感覺',\n",
              " '進而順利發展情侶關係。想製造適當的緊張感',\n",
              " '透過看恐怖電影',\n",
              " '玩遊樂園的刺激設施',\n",
              " '都是不錯方法',\n",
              " '若能在適當時機',\n",
              " '來點曖昧的肢體接觸',\n",
              " '就能讓對方產生心動錯覺',\n",
              " '不妨試試看吧。']"
            ]
          },
          "metadata": {
            "tags": []
          },
          "execution_count": 215
        }
      ]
    },
    {
      "cell_type": "code",
      "metadata": {
        "id": "n1FTgB2jxCpp",
        "colab_type": "code",
        "outputId": "81322597-db1d-4260-e3a4-7c2bcf3a62fd",
        "colab": {}
      },
      "source": [
        "for s in apple.split('，'):\n",
        "    if '心動' in s:\n",
        "        print(s)"
      ],
      "execution_count": 0,
      "outputs": [
        {
          "output_type": "stream",
          "text": [
            "\n",
            "要怎麼製造心動？其實只要製造錯覺\n",
            "就能讓對方產生心動錯覺\n"
          ],
          "name": "stdout"
        }
      ]
    },
    {
      "cell_type": "code",
      "metadata": {
        "id": "HvTqQSo0xCpu",
        "colab_type": "code",
        "outputId": "457f6a00-f9e1-418e-de5b-880cafde41ad",
        "colab": {}
      },
      "source": [
        "# 將 1 ~ 100 相加在一起\n",
        "s = 0\n",
        "for i in range(1,101):\n",
        "    s +=i\n",
        "s"
      ],
      "execution_count": 0,
      "outputs": [
        {
          "output_type": "execute_result",
          "data": {
            "text/plain": [
              "5050"
            ]
          },
          "metadata": {
            "tags": []
          },
          "execution_count": 218
        }
      ]
    },
    {
      "cell_type": "code",
      "metadata": {
        "id": "lndRVSo0xCpv",
        "colab_type": "code",
        "outputId": "95d10950-a435-49e7-badf-47c2623e809d",
        "colab": {}
      },
      "source": [
        "s = 0\n",
        "i = 0\n",
        "while i < 101:\n",
        "    s = s + i\n",
        "    i = i + 1\n",
        "s"
      ],
      "execution_count": 0,
      "outputs": [
        {
          "output_type": "execute_result",
          "data": {
            "text/plain": [
              "5050"
            ]
          },
          "metadata": {
            "tags": []
          },
          "execution_count": 219
        }
      ]
    },
    {
      "cell_type": "code",
      "metadata": {
        "id": "xO47cQucxCpy",
        "colab_type": "code",
        "outputId": "b2a4c706-b7aa-4b2e-e1a6-ab609f50fe77",
        "colab": {}
      },
      "source": [
        "s = 0\n",
        "i = 0\n",
        "while i < 101:\n",
        "    s = s + i\n",
        "    #i = i + 1\n",
        "s"
      ],
      "execution_count": 0,
      "outputs": [
        {
          "output_type": "error",
          "ename": "KeyboardInterrupt",
          "evalue": "",
          "traceback": [
            "\u001b[1;31m---------------------------------------------------------------------------\u001b[0m",
            "\u001b[1;31mKeyboardInterrupt\u001b[0m                         Traceback (most recent call last)",
            "\u001b[1;32m<ipython-input-220-09e38b211aca>\u001b[0m in \u001b[0;36m<module>\u001b[1;34m\u001b[0m\n\u001b[0;32m      2\u001b[0m \u001b[0mi\u001b[0m \u001b[1;33m=\u001b[0m \u001b[1;36m0\u001b[0m\u001b[1;33m\u001b[0m\u001b[1;33m\u001b[0m\u001b[0m\n\u001b[0;32m      3\u001b[0m \u001b[1;32mwhile\u001b[0m \u001b[0mi\u001b[0m \u001b[1;33m<\u001b[0m \u001b[1;36m101\u001b[0m\u001b[1;33m:\u001b[0m\u001b[1;33m\u001b[0m\u001b[1;33m\u001b[0m\u001b[0m\n\u001b[1;32m----> 4\u001b[1;33m     \u001b[0ms\u001b[0m \u001b[1;33m=\u001b[0m \u001b[0ms\u001b[0m \u001b[1;33m+\u001b[0m \u001b[0mi\u001b[0m\u001b[1;33m\u001b[0m\u001b[1;33m\u001b[0m\u001b[0m\n\u001b[0m\u001b[0;32m      5\u001b[0m     \u001b[1;31m#i = i + 1\u001b[0m\u001b[1;33m\u001b[0m\u001b[1;33m\u001b[0m\u001b[1;33m\u001b[0m\u001b[0m\n\u001b[0;32m      6\u001b[0m \u001b[0ms\u001b[0m\u001b[1;33m\u001b[0m\u001b[1;33m\u001b[0m\u001b[0m\n",
            "\u001b[1;31mKeyboardInterrupt\u001b[0m: "
          ]
        }
      ]
    },
    {
      "cell_type": "code",
      "metadata": {
        "id": "hEbDE0ihxCp0",
        "colab_type": "code",
        "colab": {}
      },
      "source": [
        "s"
      ],
      "execution_count": 0,
      "outputs": []
    },
    {
      "cell_type": "markdown",
      "metadata": {
        "id": "zCitPwxcxCp1",
        "colab_type": "text"
      },
      "source": [
        "## Function"
      ]
    },
    {
      "cell_type": "code",
      "metadata": {
        "id": "LFYnh4dtxCp1",
        "colab_type": "code",
        "colab": {}
      },
      "source": [
        "def say_hello():\n",
        "    print(\"hello world\")"
      ],
      "execution_count": 0,
      "outputs": []
    },
    {
      "cell_type": "code",
      "metadata": {
        "id": "msI6LuBAxCp3",
        "colab_type": "code",
        "outputId": "fff0ecf6-93f9-4221-8dae-814d70f41ac5",
        "colab": {}
      },
      "source": [
        "say_hello()"
      ],
      "execution_count": 0,
      "outputs": [
        {
          "output_type": "stream",
          "text": [
            "hello world\n"
          ],
          "name": "stdout"
        }
      ]
    },
    {
      "cell_type": "code",
      "metadata": {
        "id": "pYDGvHGaxCp5",
        "colab_type": "code",
        "colab": {}
      },
      "source": [
        "def addNum(a,b):\n",
        "    return a + b"
      ],
      "execution_count": 0,
      "outputs": []
    },
    {
      "cell_type": "code",
      "metadata": {
        "id": "3d6UfOD5xCp8",
        "colab_type": "code",
        "outputId": "ae8b3079-1fb3-4b40-b354-3d386bc976c9",
        "colab": {}
      },
      "source": [
        "addNum(3,5)"
      ],
      "execution_count": 0,
      "outputs": [
        {
          "output_type": "execute_result",
          "data": {
            "text/plain": [
              "8"
            ]
          },
          "metadata": {
            "tags": []
          },
          "execution_count": 4
        }
      ]
    },
    {
      "cell_type": "code",
      "metadata": {
        "id": "8WYBG4nexCp9",
        "colab_type": "code",
        "outputId": "df000d95-95af-4a05-af61-1fb8ec68b0f6",
        "colab": {}
      },
      "source": [
        "'hello' + 'world'"
      ],
      "execution_count": 0,
      "outputs": [
        {
          "output_type": "execute_result",
          "data": {
            "text/plain": [
              "'helloworld'"
            ]
          },
          "metadata": {
            "tags": []
          },
          "execution_count": 5
        }
      ]
    },
    {
      "cell_type": "code",
      "metadata": {
        "id": "bBwi2YO_xCp_",
        "colab_type": "code",
        "outputId": "d5e1f4de-6494-4b70-865e-b7bd8faad835",
        "colab": {}
      },
      "source": [
        "addNum('hello', 'world')"
      ],
      "execution_count": 0,
      "outputs": [
        {
          "output_type": "execute_result",
          "data": {
            "text/plain": [
              "'helloworld'"
            ]
          },
          "metadata": {
            "tags": []
          },
          "execution_count": 6
        }
      ]
    },
    {
      "cell_type": "code",
      "metadata": {
        "id": "_8NlrRl-xCqB",
        "colab_type": "code",
        "colab": {}
      },
      "source": [
        "def addSum(n):\n",
        "    s = 0\n",
        "    for i in range(1,n):\n",
        "        s +=i\n",
        "    return s"
      ],
      "execution_count": 0,
      "outputs": []
    },
    {
      "cell_type": "code",
      "metadata": {
        "id": "QYQdtQMQxCqD",
        "colab_type": "code",
        "outputId": "31ae1181-0609-4fb6-99d1-4c630ce0f3f8",
        "colab": {}
      },
      "source": [
        "addSum(51)"
      ],
      "execution_count": 0,
      "outputs": [
        {
          "output_type": "execute_result",
          "data": {
            "text/plain": [
              "1275"
            ]
          },
          "metadata": {
            "tags": []
          },
          "execution_count": 9
        }
      ]
    },
    {
      "cell_type": "code",
      "metadata": {
        "id": "x39wHJrTxCqF",
        "colab_type": "code",
        "outputId": "708163be-2856-4af7-ed0b-b605c89fdad0",
        "colab": {}
      },
      "source": [
        "addSum(101)"
      ],
      "execution_count": 0,
      "outputs": [
        {
          "output_type": "execute_result",
          "data": {
            "text/plain": [
              "5050"
            ]
          },
          "metadata": {
            "tags": []
          },
          "execution_count": 10
        }
      ]
    },
    {
      "cell_type": "code",
      "metadata": {
        "id": "BECG4zyfxCqH",
        "colab_type": "code",
        "colab": {}
      },
      "source": [
        "def findTerm(apple, term):\n",
        "    for s in apple.split('，'):\n",
        "        if term in s:\n",
        "            print(s)"
      ],
      "execution_count": 0,
      "outputs": []
    },
    {
      "cell_type": "code",
      "metadata": {
        "id": "kAvb0iuKxCqJ",
        "colab_type": "code",
        "colab": {}
      },
      "source": [
        "news = '''\n",
        "愛買行銷部資深經理王佳慧表示，因應夏日高溫，從7月17日中元開檔至今，氣泡飲料、無糖茶、運動飲料是消費者特別青睞之飲品，包括「6罐組的可口可樂系列」第1周就創下2萬組的銷量；「CHEERS氣泡水系列4瓶組」，單周就創下5000組的銷量；闔家都適合的零嘴海苔系列、堅果系列最受歡迎，麵條部分，乾拌麵仍在夏天人氣居高不下\n",
        "'''"
      ],
      "execution_count": 0,
      "outputs": []
    },
    {
      "cell_type": "code",
      "metadata": {
        "id": "VZaITKysxCqL",
        "colab_type": "code",
        "outputId": "cecaad65-ad03-4e51-8986-14c0ed408012",
        "colab": {}
      },
      "source": [
        "findTerm(news, '中元')"
      ],
      "execution_count": 0,
      "outputs": [
        {
          "output_type": "stream",
          "text": [
            "從7月17日中元開檔至今\n"
          ],
          "name": "stdout"
        }
      ]
    },
    {
      "cell_type": "code",
      "metadata": {
        "id": "XAzcmZi2xCqM",
        "colab_type": "code",
        "outputId": "5233912e-ad31-4fa2-b671-885921400067",
        "colab": {}
      },
      "source": [
        "def addall(x, *args):\n",
        "    print(x)\n",
        "    print(args)\n",
        "    res = x\n",
        "    for y in args:\n",
        "        res += y\n",
        "    return(res)\n",
        "\n",
        "addall(1,2,3,4,5)\n"
      ],
      "execution_count": 0,
      "outputs": [
        {
          "output_type": "stream",
          "text": [
            "1\n",
            "(2, 3, 4, 5)\n"
          ],
          "name": "stdout"
        },
        {
          "output_type": "execute_result",
          "data": {
            "text/plain": [
              "15"
            ]
          },
          "metadata": {
            "tags": []
          },
          "execution_count": 14
        }
      ]
    },
    {
      "cell_type": "code",
      "metadata": {
        "id": "huQhvtR5xCqO",
        "colab_type": "code",
        "outputId": "cab57b16-5cea-4b94-fbb4-fb6c47045b85",
        "colab": {}
      },
      "source": [
        "dic= {'a':1, 'b':2, 'c':3}\n",
        "dic.items()"
      ],
      "execution_count": 0,
      "outputs": [
        {
          "output_type": "execute_result",
          "data": {
            "text/plain": [
              "dict_items([('a', 1), ('b', 2), ('c', 3)])"
            ]
          },
          "metadata": {
            "tags": []
          },
          "execution_count": 16
        }
      ]
    },
    {
      "cell_type": "code",
      "metadata": {
        "id": "nYscYVNCxCqR",
        "colab_type": "code",
        "outputId": "d0bd3a30-3bdc-46ba-bd90-62f2424a0149",
        "colab": {}
      },
      "source": [
        "for rec in dic.items():\n",
        "    print(rec)"
      ],
      "execution_count": 0,
      "outputs": [
        {
          "output_type": "stream",
          "text": [
            "('a', 1)\n",
            "('b', 2)\n",
            "('c', 3)\n"
          ],
          "name": "stdout"
        }
      ]
    },
    {
      "cell_type": "code",
      "metadata": {
        "id": "6CLeygPwxCqX",
        "colab_type": "code",
        "outputId": "ad4b2d18-d3b3-40e3-e855-62d6f249415d",
        "colab": {}
      },
      "source": [
        "k,v = ('a', 1)\n",
        "k"
      ],
      "execution_count": 0,
      "outputs": [
        {
          "output_type": "execute_result",
          "data": {
            "text/plain": [
              "'a'"
            ]
          },
          "metadata": {
            "tags": []
          },
          "execution_count": 18
        }
      ]
    },
    {
      "cell_type": "code",
      "metadata": {
        "id": "CDRlhXAcxCqY",
        "colab_type": "code",
        "outputId": "8c84edad-b693-4227-b4c9-6a9b479ef98a",
        "colab": {}
      },
      "source": [
        "v"
      ],
      "execution_count": 0,
      "outputs": [
        {
          "output_type": "execute_result",
          "data": {
            "text/plain": [
              "1"
            ]
          },
          "metadata": {
            "tags": []
          },
          "execution_count": 19
        }
      ]
    },
    {
      "cell_type": "code",
      "metadata": {
        "id": "f0G7qeQMxCqb",
        "colab_type": "code",
        "outputId": "e5bee711-bf8e-46dc-d3ce-b85513c20d25",
        "colab": {}
      },
      "source": [
        "for k,v in dic.items():\n",
        "    print(k,v)"
      ],
      "execution_count": 0,
      "outputs": [
        {
          "output_type": "stream",
          "text": [
            "a 1\n",
            "b 2\n",
            "c 3\n"
          ],
          "name": "stdout"
        }
      ]
    },
    {
      "cell_type": "code",
      "metadata": {
        "id": "TYAYu-g0xCqd",
        "colab_type": "code",
        "outputId": "0aa9bdbf-2d3e-499d-b3af-201d67a6ca16",
        "colab": {}
      },
      "source": [
        "def make_two_lists(**kwargs):\n",
        "    print(kwargs)\n",
        "    \n",
        "    keys,values = [],[]\n",
        "    for k,v in kwargs.items():\n",
        "        keys.append(k)\n",
        "        values.append(v)\n",
        "    return([keys,values])\n",
        "\n",
        "make_two_lists(david='M', Mary = 'F', John='M')"
      ],
      "execution_count": 0,
      "outputs": [
        {
          "output_type": "stream",
          "text": [
            "{'david': 'M', 'Mary': 'F', 'John': 'M'}\n"
          ],
          "name": "stdout"
        },
        {
          "output_type": "execute_result",
          "data": {
            "text/plain": [
              "[['david', 'Mary', 'John'], ['M', 'F', 'M']]"
            ]
          },
          "metadata": {
            "tags": []
          },
          "execution_count": 15
        }
      ]
    },
    {
      "cell_type": "code",
      "metadata": {
        "id": "RNVvP85DxCqe",
        "colab_type": "code",
        "outputId": "3110e47f-d599-490a-9117-1692bf8781a9",
        "colab": {}
      },
      "source": [
        "def tp(*kwargs):\n",
        "    print(kwargs)\n",
        "tp(('david','M'), ('Mary', 'F'), ('John','M'))"
      ],
      "execution_count": 0,
      "outputs": [
        {
          "output_type": "stream",
          "text": [
            "(('david', 'M'), ('Mary', 'F'), ('John', 'M'))\n"
          ],
          "name": "stdout"
        }
      ]
    },
    {
      "cell_type": "markdown",
      "metadata": {
        "id": "Ymf-_TyCxCqf",
        "colab_type": "text"
      },
      "source": [
        "## Nested Statement and scope"
      ]
    },
    {
      "cell_type": "code",
      "metadata": {
        "id": "7IzzvkxlxCqg",
        "colab_type": "code",
        "outputId": "d90fcbae-d133-4298-d9b7-d755115a4770",
        "colab": {}
      },
      "source": [
        "x = 25\n",
        "\n",
        "def printer():\n",
        "    x = 50\n",
        "    return x\n",
        "\n",
        "print(x)\n",
        "print(printer())"
      ],
      "execution_count": 0,
      "outputs": [
        {
          "output_type": "stream",
          "text": [
            "25\n",
            "50\n"
          ],
          "name": "stdout"
        }
      ]
    },
    {
      "cell_type": "code",
      "metadata": {
        "id": "Y4CRyt83xCqh",
        "colab_type": "code",
        "outputId": "ab0b0d55-e1c8-4998-ba04-79b6bccbaa57",
        "colab": {}
      },
      "source": [
        "x = 25\n",
        "\n",
        "def printer():\n",
        "    #x = 50\n",
        "    return x\n",
        "\n",
        "print(x)\n",
        "print(printer())"
      ],
      "execution_count": 0,
      "outputs": [
        {
          "output_type": "stream",
          "text": [
            "25\n",
            "25\n"
          ],
          "name": "stdout"
        }
      ]
    },
    {
      "cell_type": "code",
      "metadata": {
        "id": "6V4TPah-xCqj",
        "colab_type": "code",
        "outputId": "f6405e55-bcb9-4069-82e7-e363503e5a18",
        "colab": {}
      },
      "source": [
        "x = 5\n",
        "f = lambda x:x**2 # x is local\n",
        "f(3)"
      ],
      "execution_count": 0,
      "outputs": [
        {
          "output_type": "execute_result",
          "data": {
            "text/plain": [
              "9"
            ]
          },
          "metadata": {
            "tags": []
          },
          "execution_count": 23
        }
      ]
    },
    {
      "cell_type": "code",
      "metadata": {
        "id": "Ruf1DIE9xCql",
        "colab_type": "code",
        "colab": {}
      },
      "source": [
        "\n",
        "name = 'This is a global name'\n",
        "\n",
        "def greet():\n",
        "    # Enclosing function\n",
        "    name = 'Sammy' # Enclosing function locals\n",
        "    def hello():\n",
        "        print('Hello '+name )\n",
        "    hello()\n"
      ],
      "execution_count": 0,
      "outputs": []
    },
    {
      "cell_type": "code",
      "metadata": {
        "id": "qWN30GW-xCqm",
        "colab_type": "code",
        "outputId": "c94b84ca-f683-4ca8-8878-9ee955eeb1be",
        "colab": {}
      },
      "source": [
        "greet()"
      ],
      "execution_count": 0,
      "outputs": [
        {
          "output_type": "stream",
          "text": [
            "Hello Sammy\n"
          ],
          "name": "stdout"
        }
      ]
    },
    {
      "cell_type": "code",
      "metadata": {
        "id": "7c64WSI8xCqn",
        "colab_type": "code",
        "outputId": "a3f2cac2-c09b-40bf-9841-548ec686e458",
        "colab": {}
      },
      "source": [
        "print(name) # Global"
      ],
      "execution_count": 0,
      "outputs": [
        {
          "output_type": "stream",
          "text": [
            "This is a global name\n"
          ],
          "name": "stdout"
        }
      ]
    },
    {
      "cell_type": "code",
      "metadata": {
        "id": "lrtshhP2xCqo",
        "colab_type": "code",
        "outputId": "0188b526-8f38-4703-db90-1f16fcd79372",
        "colab": {}
      },
      "source": [
        "len # Built-in function"
      ],
      "execution_count": 0,
      "outputs": [
        {
          "output_type": "execute_result",
          "data": {
            "text/plain": [
              "<function len(obj, /)>"
            ]
          },
          "metadata": {
            "tags": []
          },
          "execution_count": 27
        }
      ]
    },
    {
      "cell_type": "code",
      "metadata": {
        "id": "IIVWCdQdxCqp",
        "colab_type": "code",
        "outputId": "ed638f85-6ece-4ebf-d320-1867cc815fe2",
        "colab": {}
      },
      "source": [
        "sum(range(1,101))"
      ],
      "execution_count": 0,
      "outputs": [
        {
          "output_type": "execute_result",
          "data": {
            "text/plain": [
              "5050"
            ]
          },
          "metadata": {
            "tags": []
          },
          "execution_count": 28
        }
      ]
    },
    {
      "cell_type": "code",
      "metadata": {
        "id": "OXAIkvp-xCqp",
        "colab_type": "code",
        "outputId": "1878ee2f-b490-4d9b-d18d-101e91b9c344",
        "colab": {}
      },
      "source": [
        "sum = 3\n",
        "sum + 5"
      ],
      "execution_count": 0,
      "outputs": [
        {
          "output_type": "execute_result",
          "data": {
            "text/plain": [
              "8"
            ]
          },
          "metadata": {
            "tags": []
          },
          "execution_count": 29
        }
      ]
    },
    {
      "cell_type": "code",
      "metadata": {
        "id": "DA1zuLp5xCqq",
        "colab_type": "code",
        "outputId": "2acdfe10-7459-4eb8-93db-59b89d371d1f",
        "colab": {}
      },
      "source": [
        "sum(range(1,101))"
      ],
      "execution_count": 0,
      "outputs": [
        {
          "output_type": "error",
          "ename": "TypeError",
          "evalue": "'int' object is not callable",
          "traceback": [
            "\u001b[1;31m---------------------------------------------------------------------------\u001b[0m",
            "\u001b[1;31mTypeError\u001b[0m                                 Traceback (most recent call last)",
            "\u001b[1;32m<ipython-input-30-a14f9f20b77a>\u001b[0m in \u001b[0;36m<module>\u001b[1;34m\u001b[0m\n\u001b[1;32m----> 1\u001b[1;33m \u001b[0msum\u001b[0m\u001b[1;33m(\u001b[0m\u001b[0mrange\u001b[0m\u001b[1;33m(\u001b[0m\u001b[1;36m1\u001b[0m\u001b[1;33m,\u001b[0m\u001b[1;36m101\u001b[0m\u001b[1;33m)\u001b[0m\u001b[1;33m)\u001b[0m\u001b[1;33m\u001b[0m\u001b[1;33m\u001b[0m\u001b[0m\n\u001b[0m",
            "\u001b[1;31mTypeError\u001b[0m: 'int' object is not callable"
          ]
        }
      ]
    },
    {
      "cell_type": "code",
      "metadata": {
        "id": "a0danXiCxCqr",
        "colab_type": "code",
        "colab": {}
      },
      "source": [
        "del sum"
      ],
      "execution_count": 0,
      "outputs": []
    },
    {
      "cell_type": "code",
      "metadata": {
        "id": "qnkNSb2QxCqs",
        "colab_type": "code",
        "outputId": "f6121f25-3ef3-4245-fdfd-6ee20256513e",
        "colab": {}
      },
      "source": [
        "sum"
      ],
      "execution_count": 0,
      "outputs": [
        {
          "output_type": "execute_result",
          "data": {
            "text/plain": [
              "<function sum(iterable, start=0, /)>"
            ]
          },
          "metadata": {
            "tags": []
          },
          "execution_count": 32
        }
      ]
    },
    {
      "cell_type": "code",
      "metadata": {
        "id": "yvcOPqGuxCqv",
        "colab_type": "code",
        "outputId": "59d8e93c-e431-4f24-de9c-bd056c82a94a",
        "colab": {}
      },
      "source": [
        "sum(range(1,101))"
      ],
      "execution_count": 0,
      "outputs": [
        {
          "output_type": "execute_result",
          "data": {
            "text/plain": [
              "5050"
            ]
          },
          "metadata": {
            "tags": []
          },
          "execution_count": 33
        }
      ]
    },
    {
      "cell_type": "code",
      "metadata": {
        "id": "JeK-rPuXxCqy",
        "colab_type": "code",
        "colab": {}
      },
      "source": [
        "x = 50\n",
        "\n",
        "def func(x):\n",
        "    print('x is', x)\n",
        "    x = 2\n",
        "    print('Changed local x to', x )"
      ],
      "execution_count": 0,
      "outputs": []
    },
    {
      "cell_type": "code",
      "metadata": {
        "id": "TS3e5a98xCq0",
        "colab_type": "code",
        "outputId": "e95e1f13-5954-4a73-e961-08feb60947ba",
        "colab": {}
      },
      "source": [
        "func(x)\n",
        "print('x is still', x)"
      ],
      "execution_count": 0,
      "outputs": [
        {
          "output_type": "stream",
          "text": [
            "x is 50\n",
            "Changed local x to 2\n",
            "x is still 50\n"
          ],
          "name": "stdout"
        }
      ]
    },
    {
      "cell_type": "code",
      "metadata": {
        "id": "3wCQwuWNxCq1",
        "colab_type": "code",
        "outputId": "a458c9a7-8161-4e8f-dbc4-eb2243909c03",
        "colab": {}
      },
      "source": [
        "x = 50\n",
        "def func():\n",
        "    global x\n",
        "    print('This function is now using the global x!' )\n",
        "    print('Because of global x is: ', x)\n",
        "    x = 2\n",
        "    print('Ran func(), changed global x to', x )\n",
        "\n",
        "print('Before calling func(), x is: ', x)\n",
        "func()\n",
        "print('Value of x (outside of func()) is: ', x )"
      ],
      "execution_count": 0,
      "outputs": [
        {
          "output_type": "stream",
          "text": [
            "Before calling func(), x is:  50\n",
            "This function is now using the global x!\n",
            "Because of global x is:  50\n",
            "Ran func(), changed global x to 2\n",
            "Value of x (outside of func()) is:  2\n"
          ],
          "name": "stdout"
        }
      ]
    },
    {
      "cell_type": "markdown",
      "metadata": {
        "id": "4pajKG-4xCq3",
        "colab_type": "text"
      },
      "source": [
        "## 統計字詞數量"
      ]
    },
    {
      "cell_type": "code",
      "metadata": {
        "id": "vv-V7-MVxCq4",
        "colab_type": "code",
        "colab": {}
      },
      "source": [
        "speech = '''\n",
        "Chief Justice Roberts, President Carter, President Clinton, President Bush, President Obama, fellow Americans, and people of the world: thank you.\n",
        "We, the citizens of America, are now joined in a great national effort to rebuild our country and to restore its promise for all of our people.\n",
        "Together, we will determine the course of America and the world for years to come.\n",
        "We will face challenges. We will confront hardships. But we will get the job done.\n",
        "Every four years, we gather on these steps to carry out the orderly and peaceful transfer of power, and we are grateful to President Obama and First Lady Michelle Obama for their gracious aid throughout this transition. They have been magnificent.\n",
        "Today��s ceremony, however, has very special meaning. Because today we are not merely transferring power from one Administration to another, or from one party to another �V but we are transferring power from Washington, D.C. and giving it back to you, the American People.\n",
        "For too long, a small group in our nation��s Capital has reaped the rewards of government while the people have borne the cost.\n",
        "Washington flourished �V but the people did not share in its wealth.\n",
        "Politicians prospered �V but the jobs left, and the factories closed.\n",
        "The establishment protected itself, but not the citizens of our country.\n",
        "Their victories have not been your victories; their triumphs have not been your triumphs; and while they celebrated in our nation��s Capital, there was little to celebrate for struggling families all across our land.\n",
        "That all changes �V starting right here, and right now, because this moment is your moment: it belongs to you.\n",
        "It belongs to everyone gathered here today and everyone watching all across America. \n",
        "This is your day. This is your celebration.\n",
        "And this, the United States of America, is your country.\n",
        "What truly matters is not which party controls our government, but whether our government is controlled by the people.\n",
        "January 20th 2017, will be remembered as the day the people became the rulers of this nation again. \n",
        "The forgotten men and women of our country will be forgotten no longer.\n",
        "Everyone is listening to you now.\n",
        "You came by the tens of millions to become part of a historic movement the likes of which the world has never seen before.\n",
        "At the center of this movement is a crucial conviction: that a nation exists to serve its citizens.\n",
        "Americans want great schools for their children, safe neighborhoods for their families, and good jobs for themselves.\n",
        "These are the just and reasonable demands of a righteous public.\n",
        "But for too many of our citizens, a different reality exists: Mothers and children trapped in poverty in our inner cities; rusted-out factories scattered like tombstones across the landscape of our nation; an education system, flush with cash, but which leaves our young and beautiful students deprived of knowledge; and the crime and gangs and drugs that have stolen too many lives and robbed our country of so much unrealized potential.\n",
        "This American carnage stops right here and stops right now.\n",
        "We are one nation �V and their pain is our pain.  Their dreams are our dreams; and their success will be our success.  We share one heart, one home, and one glorious destiny.\n",
        "The oath of office I take today is an oath of allegiance to all Americans.\n",
        "For many decades, we��ve enriched foreign industry at the expense of American industry;\n",
        "Subsidized the armies of other countries while allowing for the very sad depletion of our military;\n",
        "\n",
        "We've defended other nation��s borders while refusing to defend our own;\n",
        "\n",
        "And spent trillions of dollars overseas while America's infrastructure has fallen into disrepair and decay.\n",
        "\n",
        "We��ve made other countries rich while the wealth, strength, and confidence of our country has disappeared over the horizon.\n",
        "\n",
        "One by one, the factories shuttered and left our shores, with not even a thought about the millions upon millions of American workers left behind.\n",
        "\n",
        "The wealth of our middle class has been ripped from their homes and then redistributed across the entire world.\n",
        "\n",
        "But that is the past. And now we are looking only to the future.\n",
        "\n",
        "We assembled here today are issuing a new decree to be heard in every city, in every foreign capital, and in every hall of power.\n",
        "\n",
        "From this day forward, a new vision will govern our land.\n",
        "\n",
        "From this moment on, it��s going to be America First.\n",
        "\n",
        "Every decision on trade, on taxes, on immigration, on foreign affairs, will be made to benefit American workers and American families.\n",
        "\n",
        "We must protect our borders from the ravages of other countries making our products, stealing our companies, and destroying our jobs.  Protection will lead to great prosperity and strength.\n",
        "\n",
        "I will fight for you with every breath in my body �V and I will never, ever let you down.\n",
        "\n",
        "America will start winning again, winning like never before.\n",
        "\n",
        "We will bring back our jobs. We will bring back our borders.  We will bring back our wealth.  And we will bring back our dreams.\n",
        "\n",
        "We will build new roads, and highways, and bridges, and airports, and tunnels, and railways all across our wonderful nation.\n",
        "\n",
        "We will get our people off of welfare and back to work �V rebuilding our country with American hands and American labor.\n",
        "\n",
        "We will follow two simple rules: Buy American and Hire American.\n",
        "\n",
        "We will seek friendship and goodwill with the nations of the world �V but we do so with the understanding that it is the right of all nations to put their own interests first.\n",
        "\n",
        "We do not seek to impose our way of life on anyone, but rather to let it shine as an example for everyone to follow.\n",
        "\n",
        "We will reinforce old alliances and form new ones �V and unite the civilized world against Radical Islamic Terrorism, which we will eradicate completely from the face of the Earth.\n",
        "\n",
        "At the bedrock of our politics will be a total allegiance to the United States of America, and through our loyalty to our country, we will rediscover our loyalty to each other.\n",
        "\n",
        "When you open your heart to patriotism, there is no room for prejudice.\n",
        "\n",
        "The Bible tells us, ��how good and pleasant it is when God��s people live together in unity.��\n",
        "\n",
        "We must speak our minds openly, debate our disagreements honestly, but always pursue solidarity.\n",
        "\n",
        "When America is united, America is totally unstoppable.\n",
        "\n",
        "There should be no fear �V we are protected, and we will always be protected.\n",
        "\n",
        "We will be protected by the great men and women of our military and law enforcement and, most importantly, we are protected by God.\n",
        "\n",
        "Finally, we must think big and dream even bigger.\n",
        "\n",
        "In America, we understand that a nation is only living as long as it is striving.\n",
        "\n",
        "We will no longer accept politicians who are all talk and no action �V constantly complaining but never doing anything about it.\n",
        "\n",
        "The time for empty talk is over.\n",
        "\n",
        "Now arrives the hour of action.\n",
        "\n",
        "Do not let anyone tell you it cannot be done.  No challenge can match the heart and fight and spirit of America.\n",
        "\n",
        "We will not fail. Our country will thrive and prosper again.\n",
        "\n",
        "We stand at the birth of a new millennium, ready to unlock the mysteries of space, to free the Earth from the miseries of disease, and to harness the energies, industries and technologies of tomorrow.\n",
        "\n",
        "A new national pride will stir our souls, lift our sights, and heal our divisions.\n",
        "\n",
        "It is time to remember that old wisdom our soldiers will never forget: that whether we are black or brown or white, we all bleed the same red blood of patriots, we all enjoy the same glorious freedoms, and we all salute the same great American Flag.\n",
        "\n",
        "And whether a child is born in the urban sprawl of Detroit or the windswept plains of Nebraska, they look up at the same night sky, they fill their heart with the same dreams, and they are infused with the breath of life by the same almighty Creator.\n",
        "\n",
        "So to all Americans, in every city near and far, small and large, from mountain to mountain, and from ocean to ocean, hear these words:\n",
        "\n",
        "You will never be ignored again.\n",
        "\n",
        "Your voice, your hopes, and your dreams, will define our American destiny. And your courage and goodness and love will forever guide us along the way.\n",
        "\n",
        "Together, We Will Make America Strong Again.\n",
        "\n",
        "We Will Make America Wealthy Again.\n",
        "\n",
        "We Will Make America Proud Again.\n",
        "\n",
        "We Will Make America Safe Again.\n",
        "\n",
        "And, Yes, Together, We Will Make America Great Again. Thank you, God Bless You, And God Bless America.\n",
        "'''"
      ],
      "execution_count": 0,
      "outputs": []
    },
    {
      "cell_type": "code",
      "metadata": {
        "id": "vo0sVUAPxCq5",
        "colab_type": "code",
        "outputId": "5a04b32d-fab5-4b80-c690-8ebf34cc6faf",
        "colab": {}
      },
      "source": [
        "a = [1,1,2,2,3,3,2,1,2,3,4,3,2]\n",
        "dic = {}\n",
        "for w in a:\n",
        "    if w not in dic:\n",
        "        dic[w] = 1\n",
        "    else:\n",
        "        dic[w] = dic[w] + 1\n",
        "dic"
      ],
      "execution_count": 0,
      "outputs": [
        {
          "output_type": "execute_result",
          "data": {
            "text/plain": [
              "{1: 3, 2: 5, 3: 4, 4: 1}"
            ]
          },
          "metadata": {
            "tags": []
          },
          "execution_count": 43
        }
      ]
    },
    {
      "cell_type": "code",
      "metadata": {
        "id": "KxCfLNlFxCq-",
        "colab_type": "code",
        "colab": {}
      },
      "source": [
        "stopwords = [\"a\", \"about\", \"above\", \"above\", \"across\", \"after\", \"afterwards\", \"again\", \"against\", \"all\", \"almost\", \"alone\", \"along\", \"already\", \"also\",\"although\",\"always\",\"am\",\"among\", \"amongst\", \"amoungst\", \"amount\",  \"an\", \"and\", \"another\", \"any\",\"anyhow\",\"anyone\",\"anything\",\"anyway\", \"anywhere\", \"are\", \"around\", \"as\",  \"at\", \"back\",\"be\",\"became\", \"because\",\"become\",\"becomes\", \"becoming\", \"been\", \"before\", \"beforehand\", \"behind\", \"being\", \"below\", \"beside\", \"besides\", \"between\", \"beyond\", \"bill\", \"both\", \"bottom\",\"but\", \"by\", \"call\", \"can\", \"cannot\", \"cant\", \"co\", \"con\", \"could\", \"couldnt\", \"cry\", \"de\", \"describe\", \"detail\", \"do\", \"done\", \"down\", \"due\", \"during\", \"each\", \"eg\", \"eight\", \"either\", \"eleven\",\"else\", \"elsewhere\", \"empty\", \"enough\", \"etc\", \"even\", \"ever\", \"every\", \"everyone\", \"everything\", \"everywhere\", \"except\", \"few\", \"fifteen\", \"fify\", \"fill\", \"find\", \"fire\", \"first\", \"five\", \"for\", \"former\", \"formerly\", \"forty\", \"found\", \"four\", \"from\", \"front\", \"full\", \"further\", \"get\", \"give\", \"go\", \"had\", \"has\", \"hasnt\", \"have\", \"he\", \"hence\", \"her\", \"here\", \"hereafter\", \"hereby\", \"herein\", \"hereupon\", \"hers\", \"herself\", \"him\", \"himself\", \"his\", \"how\", \"however\", \"hundred\", \"ie\", \"if\", \"in\", \"inc\", \"indeed\", \"interest\", \"into\", \"is\", \"it\", \"its\", \"itself\", \"keep\", \"last\", \"latter\", \"latterly\", \"least\", \"less\", \"ltd\", \"made\", \"many\", \"may\", \"me\", \"meanwhile\", \"might\", \"mill\", \"mine\", \"more\", \"moreover\", \"most\", \"mostly\", \"move\", \"much\", \"must\", \"my\", \"myself\", \"name\", \"namely\", \"neither\", \"never\", \"nevertheless\", \"next\", \"nine\", \"no\", \"nobody\", \"none\", \"noone\", \"nor\", \"not\", \"nothing\", \"now\", \"nowhere\", \"of\", \"off\", \"often\", \"on\", \"once\", \"one\", \"only\", \"onto\", \"or\", \"other\", \"others\", \"otherwise\", \"our\", \"ours\", \"ourselves\", \"out\", \"over\", \"own\",\"part\", \"per\", \"perhaps\", \"please\", \"put\", \"rather\", \"re\", \"same\", \"see\", \"seem\", \"seemed\", \"seeming\", \"seems\", \"serious\", \"several\", \"she\", \"should\", \"show\", \"side\", \"since\", \"sincere\", \"six\", \"sixty\", \"so\", \"some\", \"somehow\", \"someone\", \"something\", \"sometime\", \"sometimes\", \"somewhere\", \"still\", \"such\", \"system\", \"take\", \"ten\", \"than\", \"that\", \"the\", \"their\", \"them\", \"themselves\", \"then\", \"thence\", \"there\", \"thereafter\", \"thereby\", \"therefore\", \"therein\", \"thereupon\", \"these\", \"they\", \"thick\", \"thin\", \"third\", \"this\", \"those\", \"though\", \"three\", \"through\", \"throughout\", \"thru\", \"thus\", \"to\", \"together\", \"too\", \"top\", \"toward\", \"towards\", \"twelve\", \"twenty\", \"two\", \"un\", \"under\", \"until\", \"up\", \"upon\", \"us\", \"very\", \"via\", \"was\", \"we\", \"well\", \"were\", \"what\", \"whatever\", \"when\", \"whence\", \"whenever\", \"where\", \"whereafter\", \"whereas\", \"whereby\", \"wherein\", \"whereupon\", \"wherever\", \"whether\", \"which\", \"while\", \"whither\", \"who\", \"whoever\", \"whole\", \"whom\", \"whose\", \"why\", \"will\", \"with\", \"within\", \"without\", \"would\", \"yet\", \"you\", \"your\", \"yours\", \"yourself\", \"yourselves\", \"the\"]"
      ],
      "execution_count": 0,
      "outputs": []
    },
    {
      "cell_type": "code",
      "metadata": {
        "id": "1W4Vm8XPxCq-",
        "colab_type": "code",
        "colab": {}
      },
      "source": [
        "words = speech.lower().split()"
      ],
      "execution_count": 0,
      "outputs": []
    },
    {
      "cell_type": "code",
      "metadata": {
        "id": "M70ny6CnxCq_",
        "colab_type": "code",
        "colab": {}
      },
      "source": [
        "dic = {}\n",
        "for w in words:\n",
        "    if w not in stopwords:\n",
        "        if w not in dic:\n",
        "            dic[w] = 1\n",
        "        else:\n",
        "            dic[w] = dic[w] + 1"
      ],
      "execution_count": 0,
      "outputs": []
    },
    {
      "cell_type": "code",
      "metadata": {
        "id": "ULxPM3TCxCrA",
        "colab_type": "code",
        "colab": {}
      },
      "source": [
        "#dic.items()"
      ],
      "execution_count": 0,
      "outputs": []
    },
    {
      "cell_type": "code",
      "metadata": {
        "id": "eK2sII0uxCrB",
        "colab_type": "code",
        "outputId": "0750ff51-9812-4bd2-ae4c-96f208ebfefe",
        "colab": {}
      },
      "source": [
        "swd = sorted(dic.items(), key= lambda e: e[1], reverse=True)\n",
        "for k,v in swd[0:10]:\n",
        "    if len(k) >=2 and '�' not in k:\n",
        "        print(k,v)"
      ],
      "execution_count": 0,
      "outputs": [
        {
          "output_type": "stream",
          "text": [
            "american 11\n",
            "america 10\n",
            "again. 8\n",
            "people 6\n",
            "great 6\n",
            "country 6\n",
            "new 6\n",
            "president 5\n",
            "right 5\n"
          ],
          "name": "stdout"
        }
      ]
    },
    {
      "cell_type": "code",
      "metadata": {
        "id": "_hj-RGYExCrC",
        "colab_type": "code",
        "colab": {}
      },
      "source": [
        "jobs = '''\n",
        "I am honored to be with you today at your commencement from one of the finest universities in the world. I never graduated from college. Truth be told, this is the closest I’ve ever gotten to a college graduation. Today I want to tell you three stories from my life. That’s it. No big deal. Just three stories.\n",
        "\n",
        "Related to this story\n",
        "2005 Stanford Commencement coverage\n",
        "The first story is about connecting the dots.\n",
        "\n",
        "I dropped out of Reed College after the first 6 months, but then stayed around as a drop-in for another 18 months or so before I really quit. So why did I drop out?\n",
        "\n",
        "It started before I was born. My biological mother was a young, unwed college graduate student, and she decided to put me up for adoption. She felt very strongly that I should be adopted by college graduates, so everything was all set for me to be adopted at birth by a lawyer and his wife. Except that when I popped out they decided at the last minute that they really wanted a girl. So my parents, who were on a waiting list, got a call in the middle of the night asking: “We have an unexpected baby boy; do you want him?” They said: “Of course.” My biological mother later found out that my mother had never graduated from college and that my father had never graduated from high school. She refused to sign the final adoption papers. She only relented a few months later when my parents promised that I would someday go to college.\n",
        "\n",
        "And 17 years later I did go to college. But I naively chose a college that was almost as expensive as Stanford, and all of my working-class parents’ savings were being spent on my college tuition. After six months, I couldn’t see the value in it. I had no idea what I wanted to do with my life and no idea how college was going to help me figure it out. And here I was spending all of the money my parents had saved their entire life. So I decided to drop out and trust that it would all work out OK. It was pretty scary at the time, but looking back it was one of the best decisions I ever made. The minute I dropped out I could stop taking the required classes that didn’t interest me, and begin dropping in on the ones that looked interesting.\n",
        "\n",
        "It wasn’t all romantic. I didn’t have a dorm room, so I slept on the floor in friends’ rooms, I returned Coke bottles for the 5¢ deposits to buy food with, and I would walk the 7 miles across town every Sunday night to get one good meal a week at the Hare Krishna temple. I loved it. And much of what I stumbled into by following my curiosity and intuition turned out to be priceless later on. Let me give you one example:\n",
        "\n",
        "Reed College at that time offered perhaps the best calligraphy instruction in the country. Throughout the campus every poster, every label on every drawer, was beautifully hand calligraphed. Because I had dropped out and didn’t have to take the normal classes, I decided to take a calligraphy class to learn how to do this. I learned about serif and sans serif typefaces, about varying the amount of space between different letter combinations, about what makes great typography great. It was beautiful, historical, artistically subtle in a way that science can’t capture, and I found it fascinating.\n",
        "\n",
        "None of this had even a hope of any practical application in my life. But 10 years later, when we were designing the first Macintosh computer, it all came back to me. And we designed it all into the Mac. It was the first computer with beautiful typography. If I had never dropped in on that single course in college, the Mac would have never had multiple typefaces or proportionally spaced fonts. And since Windows just copied the Mac, it’s likely that no personal computer would have them. If I had never dropped out, I would have never dropped in on this calligraphy class, and personal computers might not have the wonderful typography that they do. Of course it was impossible to connect the dots looking forward when I was in college. But it was very, very clear looking backward 10 years later.\n",
        "\n",
        "Again, you can’t connect the dots looking forward; you can only connect them looking backward. So you have to trust that the dots will somehow connect in your future. You have to trust in something — your gut, destiny, life, karma, whatever. This approach has never let me down, and it has made all the difference in my life.\n",
        "\n",
        "My second story is about love and loss.\n",
        "\n",
        "I was lucky — I found what I loved to do early in life. Woz and I started Apple in my parents’ garage when I was 20. We worked hard, and in 10 years Apple had grown from just the two of us in a garage into a $2 billion company with over 4,000 employees. We had just released our finest creation — the Macintosh — a year earlier, and I had just turned 30. And then I got fired. How can you get fired from a company you started? Well, as Apple grew we hired someone who I thought was very talented to run the company with me, and for the first year or so things went well. But then our visions of the future began to diverge and eventually we had a falling out. When we did, our Board of Directors sided with him. So at 30 I was out. And very publicly out. What had been the focus of my entire adult life was gone, and it was devastating.\n",
        "\n",
        "I really didn’t know what to do for a few months. I felt that I had let the previous generation of entrepreneurs down — that I had dropped the baton as it was being passed to me. I met with David Packard and Bob Noyce and tried to apologize for screwing up so badly. I was a very public failure, and I even thought about running away from the valley. But something slowly began to dawn on me — I still loved what I did. The turn of events at Apple had not changed that one bit. I had been rejected, but I was still in love. And so I decided to start over.\n",
        "\n",
        "I didn’t see it then, but it turned out that getting fired from Apple was the best thing that could have ever happened to me. The heaviness of being successful was replaced by the lightness of being a beginner again, less sure about everything. It freed me to enter one of the most creative periods of my life.\n",
        "\n",
        "During the next five years, I started a company named NeXT, another company named Pixar, and fell in love with an amazing woman who would become my wife. Pixar went on to create the world’s first computer animated feature film, Toy Story, and is now the most successful animation studio in the world. In a remarkable turn of events, Apple bought NeXT, I returned to Apple, and the technology we developed at NeXT is at the heart of Apple’s current renaissance. And Laurene and I have a wonderful family together.\n",
        "\n",
        "I’m pretty sure none of this would have happened if I hadn’t been fired from Apple. It was awful tasting medicine, but I guess the patient needed it. Sometimes life hits you in the head with a brick. Don’t lose faith. I’m convinced that the only thing that kept me going was that I loved what I did. You’ve got to find what you love. And that is as true for your work as it is for your lovers. Your work is going to fill a large part of your life, and the only way to be truly satisfied is to do what you believe is great work. And the only way to do great work is to love what you do. If you haven’t found it yet, keep looking. Don’t settle. As with all matters of the heart, you’ll know when you find it. And, like any great relationship, it just gets better and better as the years roll on. So keep looking until you find it. Don’t settle.\n",
        "\n",
        "My third story is about death.\n",
        "\n",
        "When I was 17, I read a quote that went something like: “If you live each day as if it was your last, someday you’ll most certainly be right.” It made an impression on me, and since then, for the past 33 years, I have looked in the mirror every morning and asked myself: “If today were the last day of my life, would I want to do what I am about to do today?” And whenever the answer has been “No” for too many days in a row, I know I need to change something.\n",
        "\n",
        "Remembering that I’ll be dead soon is the most important tool I’ve ever encountered to help me make the big choices in life. Because almost everything — all external expectations, all pride, all fear of embarrassment or failure — these things just fall away in the face of death, leaving only what is truly important. Remembering that you are going to die is the best way I know to avoid the trap of thinking you have something to lose. You are already naked. There is no reason not to follow your heart.\n",
        "\n",
        "About a year ago I was diagnosed with cancer. I had a scan at 7:30 in the morning, and it clearly showed a tumor on my pancreas. I didn’t even know what a pancreas was. The doctors told me this was almost certainly a type of cancer that is incurable, and that I should expect to live no longer than three to six months. My doctor advised me to go home and get my affairs in order, which is doctor’s code for prepare to die. It means to try to tell your kids everything you thought you’d have the next 10 years to tell them in just a few months. It means to make sure everything is buttoned up so that it will be as easy as possible for your family. It means to say your goodbyes.\n",
        "\n",
        "I lived with that diagnosis all day. Later that evening I had a biopsy, where they stuck an endoscope down my throat, through my stomach and into my intestines, put a needle into my pancreas and got a few cells from the tumor. I was sedated, but my wife, who was there, told me that when they viewed the cells under a microscope the doctors started crying because it turned out to be a very rare form of pancreatic cancer that is curable with surgery. I had the surgery and I’m fine now.\n",
        "\n",
        "This was the closest I’ve been to facing death, and I hope it’s the closest I get for a few more decades. Having lived through it, I can now say this to you with a bit more certainty than when death was a useful but purely intellectual concept:\n",
        "\n",
        "No one wants to die. Even people who want to go to heaven don’t want to die to get there. And yet death is the destination we all share. No one has ever escaped it. And that is as it should be, because Death is very likely the single best invention of Life. It is Life’s change agent. It clears out the old to make way for the new. Right now the new is you, but someday not too long from now, you will gradually become the old and be cleared away. Sorry to be so dramatic, but it is quite true.\n",
        "\n",
        "Your time is limited, so don’t waste it living someone else’s life. Don’t be trapped by dogma — which is living with the results of other people’s thinking. Don’t let the noise of others’ opinions drown out your own inner voice. And most important, have the courage to follow your heart and intuition. They somehow already know what you truly want to become. Everything else is secondary.\n",
        "\n",
        "When I was young, there was an amazing publication called The Whole Earth Catalog, which was one of the bibles of my generation. It was created by a fellow named Stewart Brand not far from here in Menlo Park, and he brought it to life with his poetic touch. This was in the late 1960s, before personal computers and desktop publishing, so it was all made with typewriters, scissors and Polaroid cameras. It was sort of like Google in paperback form, 35 years before Google came along: It was idealistic, and overflowing with neat tools and great notions.\n",
        "\n",
        "Stewart and his team put out several issues of The Whole Earth Catalog, and then when it had run its course, they put out a final issue. It was the mid-1970s, and I was your age. On the back cover of their final issue was a photograph of an early morning country road, the kind you might find yourself hitchhiking on if you were so adventurous. Beneath it were the words: “Stay Hungry. Stay Foolish.” It was their farewell message as they signed off. Stay Hungry. Stay Foolish. And I have always wished that for myself. And now, as you graduate to begin anew, I wish that for you.\n",
        "\n",
        "Stay Hungry. Stay Foolish.\n",
        "\n",
        "Thank you all very much.\n",
        "\n",
        "'''"
      ],
      "execution_count": 0,
      "outputs": []
    },
    {
      "cell_type": "markdown",
      "metadata": {
        "id": "FoQtVv6PxCrD",
        "colab_type": "text"
      },
      "source": [
        "## 問題:\n",
        "- 是否能建立一個函數 findTopKTerms, 我們能給予文章 article, 以及 k 的數量, 該函數能回傳文章中非 stopwords 的 top-k 字詞"
      ]
    },
    {
      "cell_type": "code",
      "metadata": {
        "id": "_GMHnZhUxCrD",
        "colab_type": "code",
        "colab": {}
      },
      "source": [
        "stopwords = [\"a\", \"about\", \"above\", \"above\", \"across\", \"after\", \"afterwards\", \"again\", \"against\", \"all\", \"almost\", \"alone\", \"along\", \"already\", \"also\",\"although\",\"always\",\"am\",\"among\", \"amongst\", \"amoungst\", \"amount\",  \"an\", \"and\", \"another\", \"any\",\"anyhow\",\"anyone\",\"anything\",\"anyway\", \"anywhere\", \"are\", \"around\", \"as\",  \"at\", \"back\",\"be\",\"became\", \"because\",\"become\",\"becomes\", \"becoming\", \"been\", \"before\", \"beforehand\", \"behind\", \"being\", \"below\", \"beside\", \"besides\", \"between\", \"beyond\", \"bill\", \"both\", \"bottom\",\"but\", \"by\", \"call\", \"can\", \"cannot\", \"cant\", \"co\", \"con\", \"could\", \"couldnt\", \"cry\", \"de\", \"describe\", \"detail\", \"do\", \"done\", \"down\", \"due\", \"during\", \"each\", \"eg\", \"eight\", \"either\", \"eleven\",\"else\", \"elsewhere\", \"empty\", \"enough\", \"etc\", \"even\", \"ever\", \"every\", \"everyone\", \"everything\", \"everywhere\", \"except\", \"few\", \"fifteen\", \"fify\", \"fill\", \"find\", \"fire\", \"first\", \"five\", \"for\", \"former\", \"formerly\", \"forty\", \"found\", \"four\", \"from\", \"front\", \"full\", \"further\", \"get\", \"give\", \"go\", \"had\", \"has\", \"hasnt\", \"have\", \"he\", \"hence\", \"her\", \"here\", \"hereafter\", \"hereby\", \"herein\", \"hereupon\", \"hers\", \"herself\", \"him\", \"himself\", \"his\", \"how\", \"however\", \"hundred\", \"ie\", \"if\", \"in\", \"inc\", \"indeed\", \"interest\", \"into\", \"is\", \"it\", \"its\", \"itself\", \"keep\", \"last\", \"latter\", \"latterly\", \"least\", \"less\", \"ltd\", \"made\", \"many\", \"may\", \"me\", \"meanwhile\", \"might\", \"mill\", \"mine\", \"more\", \"moreover\", \"most\", \"mostly\", \"move\", \"much\", \"must\", \"my\", \"myself\", \"name\", \"namely\", \"neither\", \"never\", \"nevertheless\", \"next\", \"nine\", \"no\", \"nobody\", \"none\", \"noone\", \"nor\", \"not\", \"nothing\", \"now\", \"nowhere\", \"of\", \"off\", \"often\", \"on\", \"once\", \"one\", \"only\", \"onto\", \"or\", \"other\", \"others\", \"otherwise\", \"our\", \"ours\", \"ourselves\", \"out\", \"over\", \"own\",\"part\", \"per\", \"perhaps\", \"please\", \"put\", \"rather\", \"re\", \"same\", \"see\", \"seem\", \"seemed\", \"seeming\", \"seems\", \"serious\", \"several\", \"she\", \"should\", \"show\", \"side\", \"since\", \"sincere\", \"six\", \"sixty\", \"so\", \"some\", \"somehow\", \"someone\", \"something\", \"sometime\", \"sometimes\", \"somewhere\", \"still\", \"such\", \"system\", \"take\", \"ten\", \"than\", \"that\", \"the\", \"their\", \"them\", \"themselves\", \"then\", \"thence\", \"there\", \"thereafter\", \"thereby\", \"therefore\", \"therein\", \"thereupon\", \"these\", \"they\", \"thick\", \"thin\", \"third\", \"this\", \"those\", \"though\", \"three\", \"through\", \"throughout\", \"thru\", \"thus\", \"to\", \"together\", \"too\", \"top\", \"toward\", \"towards\", \"twelve\", \"twenty\", \"two\", \"un\", \"under\", \"until\", \"up\", \"upon\", \"us\", \"very\", \"via\", \"was\", \"we\", \"well\", \"were\", \"what\", \"whatever\", \"when\", \"whence\", \"whenever\", \"where\", \"whereafter\", \"whereas\", \"whereby\", \"wherein\", \"whereupon\", \"wherever\", \"whether\", \"which\", \"while\", \"whither\", \"who\", \"whoever\", \"whole\", \"whom\", \"whose\", \"why\", \"will\", \"with\", \"within\", \"without\", \"would\", \"yet\", \"you\", \"your\", \"yours\", \"yourself\", \"yourselves\", \"the\", \"i\"]"
      ],
      "execution_count": 0,
      "outputs": []
    },
    {
      "cell_type": "code",
      "metadata": {
        "id": "frDaPZSnxCrE",
        "colab_type": "code",
        "colab": {}
      },
      "source": [
        "def findTopKTerms(article, k = 10, stopwords = stopwords):\n",
        "    words = article.lower().split()\n",
        "    dic = {}\n",
        "    for w in words:\n",
        "        w = w.strip('.').strip(',')\n",
        "        if w not in stopwords and len(w) >=2:\n",
        "            if w not in dic:\n",
        "                dic[w] = 1\n",
        "            else:\n",
        "                dic[w] = dic[w] + 1\n",
        "    swd = sorted(dic.items(), key= lambda e: e[1], reverse=True)\n",
        "    for w,v in swd[0:k]:\n",
        "        print(w,v)"
      ],
      "execution_count": 0,
      "outputs": []
    },
    {
      "cell_type": "code",
      "metadata": {
        "id": "yhtxOqpoxCrF",
        "colab_type": "code",
        "outputId": "13846361-8005-4aa0-83d6-6c29fcda0cbd",
        "colab": {}
      },
      "source": [
        "findTopKTerms(article =jobs, k= 20)"
      ],
      "execution_count": 0,
      "outputs": [
        {
          "output_type": "stream",
          "text": [
            "life 16\n",
            "college 14\n",
            "years 9\n",
            "just 8\n",
            "apple 8\n",
            "dropped 7\n",
            "months 7\n",
            "later 7\n",
            "looking 7\n",
            "don’t 7\n",
            "want 6\n",
            "didn’t 6\n",
            "great 6\n",
            "know 6\n",
            "death 6\n",
            "story 5\n",
            "did 5\n",
            "decided 5\n",
            "work 5\n",
            "best 5\n"
          ],
          "name": "stdout"
        }
      ]
    },
    {
      "cell_type": "code",
      "metadata": {
        "id": "P8U2TA6uxCrH",
        "colab_type": "code",
        "colab": {}
      },
      "source": [
        "def findTopKTerms(article, k = 10, stopwords = stopwords):\n",
        "    # 利用空白切割字詞\n",
        "    words = article.lower().split()\n",
        "    \n",
        "    # 使用字典做字詞統計\n",
        "    dic = {}\n",
        "    for w in words:\n",
        "        w = w.strip('.').strip(',')\n",
        "        if w not in stopwords and len(w) >=2:\n",
        "            if w not in dic:\n",
        "                dic[w] = 1\n",
        "            else:\n",
        "                dic[w] = dic[w] + 1\n",
        "                \n",
        "    # 運用 sorted 對字典作排序\n",
        "    swd = sorted(dic.items(), key= lambda e: e[1], reverse=True)\n",
        "    \n",
        "    ret = []\n",
        "    # 將回傳的 topk Tuple 做 Unpacking\n",
        "    for w,v in swd[0:k]:\n",
        "        ret.append((w,v))\n",
        "    return ret"
      ],
      "execution_count": 0,
      "outputs": []
    },
    {
      "cell_type": "code",
      "metadata": {
        "id": "kOEZ3pdKxCrJ",
        "colab_type": "code",
        "outputId": "2160f864-bc58-4f9e-abaf-6f8f9830a7b7",
        "colab": {}
      },
      "source": [
        "findTopKTerms(article =jobs, k= 20)"
      ],
      "execution_count": 0,
      "outputs": [
        {
          "output_type": "execute_result",
          "data": {
            "text/plain": [
              "[('life', 16),\n",
              " ('college', 14),\n",
              " ('years', 9),\n",
              " ('just', 8),\n",
              " ('apple', 8),\n",
              " ('dropped', 7),\n",
              " ('months', 7),\n",
              " ('later', 7),\n",
              " ('looking', 7),\n",
              " ('don’t', 7),\n",
              " ('want', 6),\n",
              " ('didn’t', 6),\n",
              " ('great', 6),\n",
              " ('know', 6),\n",
              " ('death', 6),\n",
              " ('story', 5),\n",
              " ('did', 5),\n",
              " ('decided', 5),\n",
              " ('work', 5),\n",
              " ('best', 5)]"
            ]
          },
          "metadata": {
            "tags": []
          },
          "execution_count": 79
        }
      ]
    },
    {
      "cell_type": "code",
      "metadata": {
        "id": "tGb72T_oxCrL",
        "colab_type": "code",
        "outputId": "a291e209-065e-4221-87f1-8b6503c16525",
        "colab": {}
      },
      "source": [
        "a = [1,1,2,2,3,3,2,1,2,3,4,3,2]\n",
        "dic = {}\n",
        "for w in a:\n",
        "    if w not in dic:\n",
        "        dic[w] = 1\n",
        "    else:\n",
        "        dic[w] = dic[w] + 1\n",
        "dic"
      ],
      "execution_count": 0,
      "outputs": [
        {
          "output_type": "execute_result",
          "data": {
            "text/plain": [
              "{1: 3, 2: 5, 3: 4, 4: 1}"
            ]
          },
          "metadata": {
            "tags": []
          },
          "execution_count": 80
        }
      ]
    },
    {
      "cell_type": "code",
      "metadata": {
        "id": "ffC9sVcDxCrL",
        "colab_type": "code",
        "outputId": "c1d921fa-c475-4888-ac7a-e2f1887de1c1",
        "colab": {}
      },
      "source": [
        "dic.items()"
      ],
      "execution_count": 0,
      "outputs": [
        {
          "output_type": "execute_result",
          "data": {
            "text/plain": [
              "dict_items([(1, 3), (2, 5), (3, 4), (4, 1)])"
            ]
          },
          "metadata": {
            "tags": []
          },
          "execution_count": 82
        }
      ]
    },
    {
      "cell_type": "code",
      "metadata": {
        "id": "gEecP1rWxCrM",
        "colab_type": "code",
        "outputId": "63071ec1-a0db-4c8f-805e-bc79c3a58ed8",
        "colab": {}
      },
      "source": [
        "sorted(dic.items(), key = lambda e: e[0], reverse= True)"
      ],
      "execution_count": 0,
      "outputs": [
        {
          "output_type": "execute_result",
          "data": {
            "text/plain": [
              "[(4, 1), (3, 4), (2, 5), (1, 3)]"
            ]
          },
          "metadata": {
            "tags": []
          },
          "execution_count": 84
        }
      ]
    },
    {
      "cell_type": "code",
      "metadata": {
        "id": "1Knj5bXgxCrN",
        "colab_type": "code",
        "outputId": "f0e9cceb-9820-4f91-b297-df0cbe4f1427",
        "colab": {}
      },
      "source": [
        "sorted(dic.items(), key = lambda e: e[1])"
      ],
      "execution_count": 0,
      "outputs": [
        {
          "output_type": "execute_result",
          "data": {
            "text/plain": [
              "[(4, 1), (1, 3), (3, 4), (2, 5)]"
            ]
          },
          "metadata": {
            "tags": []
          },
          "execution_count": 86
        }
      ]
    },
    {
      "cell_type": "code",
      "metadata": {
        "id": "1QiuyYBtxCrO",
        "colab_type": "code",
        "outputId": "926fc1af-fe37-4a88-a83e-c17aca4d6f0c",
        "colab": {}
      },
      "source": [
        "sorted(dic.items(), key = lambda e: e[1], reverse= True)"
      ],
      "execution_count": 0,
      "outputs": [
        {
          "output_type": "execute_result",
          "data": {
            "text/plain": [
              "[(2, 5), (3, 4), (1, 3), (4, 1)]"
            ]
          },
          "metadata": {
            "tags": []
          },
          "execution_count": 85
        }
      ]
    },
    {
      "cell_type": "code",
      "metadata": {
        "id": "qJjrBZjtxCrO",
        "colab_type": "code",
        "outputId": "48bfb957-e230-4407-9d56-760a9ff57be7",
        "colab": {}
      },
      "source": [
        "def square(x):\n",
        "    return x ** 2\n",
        "square(3)"
      ],
      "execution_count": 0,
      "outputs": [
        {
          "output_type": "execute_result",
          "data": {
            "text/plain": [
              "9"
            ]
          },
          "metadata": {
            "tags": []
          },
          "execution_count": 87
        }
      ]
    },
    {
      "cell_type": "code",
      "metadata": {
        "id": "SSJXqg-QxCrP",
        "colab_type": "code",
        "outputId": "0d2f4c3c-4546-44cf-9fd4-d69261da9978",
        "colab": {}
      },
      "source": [
        "s = lambda x: x** 2\n",
        "s(3)"
      ],
      "execution_count": 0,
      "outputs": [
        {
          "output_type": "execute_result",
          "data": {
            "text/plain": [
              "9"
            ]
          },
          "metadata": {
            "tags": []
          },
          "execution_count": 88
        }
      ]
    },
    {
      "cell_type": "markdown",
      "metadata": {
        "id": "TTfOGl6GxCrV",
        "colab_type": "text"
      },
      "source": [
        "## Python Collections\n",
        "- https://docs.python.org/zh-tw/3/library/collections.html"
      ]
    },
    {
      "cell_type": "code",
      "metadata": {
        "id": "XQLtzxY_xCrW",
        "colab_type": "code",
        "outputId": "cb7b2592-d3cf-48cd-baa1-cf472b50eb4e",
        "colab": {}
      },
      "source": [
        "from collections import Counter\n",
        "a = [1,1,2,2,3,3,2,1,2,3,4,3,2]\n",
        "c = Counter(a)\n",
        "c.most_common()"
      ],
      "execution_count": 0,
      "outputs": [
        {
          "output_type": "execute_result",
          "data": {
            "text/plain": [
              "[(2, 5), (3, 4), (1, 3), (4, 1)]"
            ]
          },
          "metadata": {
            "tags": []
          },
          "execution_count": 89
        }
      ]
    },
    {
      "cell_type": "code",
      "metadata": {
        "id": "uEN2VM-YxCrY",
        "colab_type": "code",
        "colab": {}
      },
      "source": [
        "def findTopKTerms2(article, k = 10, stopwords = stopwords):\n",
        "    # 利用空白切割字詞\n",
        "    words = []\n",
        "    for w in article.lower().split():\n",
        "        if w not in stopwords and len(w) >= 2:\n",
        "            words.append(w.strip('.').strip(','))\n",
        "    \n",
        "    c = Counter(words)\n",
        "    return c.most_common(k)"
      ],
      "execution_count": 0,
      "outputs": []
    },
    {
      "cell_type": "code",
      "metadata": {
        "id": "tSVoA0RXxCra",
        "colab_type": "code",
        "outputId": "2baca3f9-4e41-4007-b69b-57db49f16bd6",
        "colab": {}
      },
      "source": [
        "findTopKTerms2(jobs, k = 10)"
      ],
      "execution_count": 0,
      "outputs": [
        {
          "output_type": "execute_result",
          "data": {
            "text/plain": [
              "[('life', 16),\n",
              " ('college', 14),\n",
              " ('years', 9),\n",
              " ('it', 8),\n",
              " ('just', 8),\n",
              " ('apple', 8),\n",
              " ('dropped', 7),\n",
              " ('months', 7),\n",
              " ('later', 7),\n",
              " ('looking', 7)]"
            ]
          },
          "metadata": {
            "tags": []
          },
          "execution_count": 98
        }
      ]
    },
    {
      "cell_type": "code",
      "metadata": {
        "id": "oHHZ4BDCxCrb",
        "colab_type": "code",
        "colab": {}
      },
      "source": [
        "def findTopKTerms3(article, k = 10, stopwords = stopwords):\n",
        "    words = [w.strip('.').strip(',') for w in article.lower().split() if w not in stopwords and len(w) >= 2]    \n",
        "    c = Counter(words)\n",
        "    return c.most_common(k)"
      ],
      "execution_count": 0,
      "outputs": []
    },
    {
      "cell_type": "code",
      "metadata": {
        "id": "uuvIRc3qxCrd",
        "colab_type": "code",
        "outputId": "96f9188d-f770-4714-8f24-75011cf73ac3",
        "colab": {}
      },
      "source": [
        "findTopKTerms3(jobs, k = 10)"
      ],
      "execution_count": 0,
      "outputs": [
        {
          "output_type": "execute_result",
          "data": {
            "text/plain": [
              "[('life', 16),\n",
              " ('college', 14),\n",
              " ('years', 9),\n",
              " ('it', 8),\n",
              " ('just', 8),\n",
              " ('apple', 8),\n",
              " ('dropped', 7),\n",
              " ('months', 7),\n",
              " ('later', 7),\n",
              " ('looking', 7)]"
            ]
          },
          "metadata": {
            "tags": []
          },
          "execution_count": 102
        }
      ]
    },
    {
      "cell_type": "markdown",
      "metadata": {
        "id": "gGmPacPsxCrf",
        "colab_type": "text"
      },
      "source": [
        "## Objects"
      ]
    },
    {
      "cell_type": "code",
      "metadata": {
        "id": "iLgoRVexxCrf",
        "colab_type": "code",
        "colab": {}
      },
      "source": [
        "a = 1"
      ],
      "execution_count": 0,
      "outputs": []
    },
    {
      "cell_type": "code",
      "metadata": {
        "id": "rBkuak0nxCrh",
        "colab_type": "code",
        "outputId": "3b5e7f9b-7964-463b-ab59-2a6ec11b53a9",
        "colab": {}
      },
      "source": [
        "a"
      ],
      "execution_count": 0,
      "outputs": [
        {
          "output_type": "execute_result",
          "data": {
            "text/plain": [
              "1"
            ]
          },
          "metadata": {
            "tags": []
          },
          "execution_count": 104
        }
      ]
    },
    {
      "cell_type": "code",
      "metadata": {
        "id": "oLMNMUwHxCri",
        "colab_type": "code",
        "outputId": "20022c1a-f059-4a34-b1c1-0b7ba25f68d8",
        "colab": {}
      },
      "source": [
        "type(a)"
      ],
      "execution_count": 0,
      "outputs": [
        {
          "output_type": "execute_result",
          "data": {
            "text/plain": [
              "int"
            ]
          },
          "metadata": {
            "tags": []
          },
          "execution_count": 105
        }
      ]
    },
    {
      "cell_type": "code",
      "metadata": {
        "id": "GnPJIbB7xCrk",
        "colab_type": "code",
        "outputId": "a36411b5-5cd6-46d3-d831-26e97b1fa78a",
        "colab": {}
      },
      "source": [
        "id(a)"
      ],
      "execution_count": 0,
      "outputs": [
        {
          "output_type": "execute_result",
          "data": {
            "text/plain": [
              "8790942126912"
            ]
          },
          "metadata": {
            "tags": []
          },
          "execution_count": 106
        }
      ]
    },
    {
      "cell_type": "code",
      "metadata": {
        "id": "IJOpbaICxCrm",
        "colab_type": "code",
        "outputId": "2d968084-6bbe-4029-de29-3ca62f07a31e",
        "colab": {}
      },
      "source": [
        "print(type(1))\n",
        "print(type([]))\n",
        "print(type(()))\n",
        "print(type({}))"
      ],
      "execution_count": 0,
      "outputs": [
        {
          "output_type": "stream",
          "text": [
            "<class 'int'>\n",
            "<class 'list'>\n",
            "<class 'tuple'>\n",
            "<class 'dict'>\n"
          ],
          "name": "stdout"
        }
      ]
    },
    {
      "cell_type": "code",
      "metadata": {
        "id": "2Rb308AHxCrn",
        "colab_type": "code",
        "colab": {}
      },
      "source": [
        "a = 1"
      ],
      "execution_count": 0,
      "outputs": []
    },
    {
      "cell_type": "code",
      "metadata": {
        "id": "KXs2hJmuxCrp",
        "colab_type": "code",
        "outputId": "694d7c4f-f450-489b-c715-a33cc125dfd9",
        "colab": {}
      },
      "source": [
        "id(a)"
      ],
      "execution_count": 0,
      "outputs": [
        {
          "output_type": "execute_result",
          "data": {
            "text/plain": [
              "8790942126912"
            ]
          },
          "metadata": {
            "tags": []
          },
          "execution_count": 109
        }
      ]
    },
    {
      "cell_type": "code",
      "metadata": {
        "id": "Ad4J0RASxCrq",
        "colab_type": "code",
        "colab": {}
      },
      "source": [
        "b = 1"
      ],
      "execution_count": 0,
      "outputs": []
    },
    {
      "cell_type": "code",
      "metadata": {
        "id": "EoLvDrFoxCrr",
        "colab_type": "code",
        "outputId": "d2940716-8953-47f8-f196-51a545873c3d",
        "colab": {}
      },
      "source": [
        "id(b)"
      ],
      "execution_count": 0,
      "outputs": [
        {
          "output_type": "execute_result",
          "data": {
            "text/plain": [
              "8790942126912"
            ]
          },
          "metadata": {
            "tags": []
          },
          "execution_count": 111
        }
      ]
    },
    {
      "cell_type": "code",
      "metadata": {
        "id": "c4heuoHWxCrs",
        "colab_type": "code",
        "colab": {}
      },
      "source": [
        "a = 2"
      ],
      "execution_count": 0,
      "outputs": []
    },
    {
      "cell_type": "code",
      "metadata": {
        "id": "NSJiw2_HxCrs",
        "colab_type": "code",
        "outputId": "652f8f95-72cf-4d8b-d853-4de181f5076e",
        "colab": {}
      },
      "source": [
        "id(a)"
      ],
      "execution_count": 0,
      "outputs": [
        {
          "output_type": "execute_result",
          "data": {
            "text/plain": [
              "8790942126944"
            ]
          },
          "metadata": {
            "tags": []
          },
          "execution_count": 113
        }
      ]
    },
    {
      "cell_type": "code",
      "metadata": {
        "id": "QVrAiaz0xCrt",
        "colab_type": "code",
        "outputId": "48174112-984c-4bd8-e013-f4b93d1be446",
        "colab": {}
      },
      "source": [
        "a = [1,2]\n",
        "print(id(a))\n",
        "a.append(3)\n",
        "a[1] = 200\n",
        "print(a)\n",
        "print(id(a))"
      ],
      "execution_count": 0,
      "outputs": [
        {
          "output_type": "stream",
          "text": [
            "141093960\n",
            "[1, 200, 3]\n",
            "141093960\n"
          ],
          "name": "stdout"
        }
      ]
    },
    {
      "cell_type": "code",
      "metadata": {
        "id": "sx20kVUKxCrw",
        "colab_type": "code",
        "outputId": "1f278058-86a4-496e-8727-1ea51ca226b8",
        "colab": {}
      },
      "source": [
        "a = [1,2,3]\n",
        "b = [1,2,3]\n",
        "print(id(a), id(b))"
      ],
      "execution_count": 0,
      "outputs": [
        {
          "output_type": "stream",
          "text": [
            "95365256 141153160\n"
          ],
          "name": "stdout"
        }
      ]
    },
    {
      "cell_type": "code",
      "metadata": {
        "id": "8tcITwWAxCrx",
        "colab_type": "code",
        "outputId": "4d68fc25-0310-4763-a960-984c42e4dd0a",
        "colab": {}
      },
      "source": [
        "a = 1\n",
        "b = 1\n",
        "print(id(a), id(b))"
      ],
      "execution_count": 0,
      "outputs": [
        {
          "output_type": "stream",
          "text": [
            "8790942126912 8790942126912\n"
          ],
          "name": "stdout"
        }
      ]
    },
    {
      "cell_type": "markdown",
      "metadata": {
        "id": "rXWkXD7IxCrz",
        "colab_type": "text"
      },
      "source": [
        "## Class"
      ]
    },
    {
      "cell_type": "code",
      "metadata": {
        "id": "ACePa8tRxCrz",
        "colab_type": "code",
        "outputId": "4d3314b0-7dfd-443f-f3be-e99c80d928a5",
        "colab": {}
      },
      "source": [
        "class Sample(object):\n",
        "    pass\n",
        "\n",
        "x = Sample() # new instance\n",
        "print(type(x))"
      ],
      "execution_count": 0,
      "outputs": [
        {
          "output_type": "stream",
          "text": [
            "<class '__main__.Sample'>\n"
          ],
          "name": "stdout"
        }
      ]
    },
    {
      "cell_type": "code",
      "metadata": {
        "id": "qFHPR0SaxCr0",
        "colab_type": "code",
        "colab": {}
      },
      "source": [
        "class Dog(object):\n",
        "    def __init__(self,breed):\n",
        "        self.breed = breed"
      ],
      "execution_count": 0,
      "outputs": []
    },
    {
      "cell_type": "code",
      "metadata": {
        "id": "-Mevt_MKxCr2",
        "colab_type": "code",
        "colab": {}
      },
      "source": [
        "sam = Dog(breed='Lab')\n",
        "frank = Dog(breed='Huskie')"
      ],
      "execution_count": 0,
      "outputs": []
    },
    {
      "cell_type": "code",
      "metadata": {
        "id": "UQIRusiqxCr3",
        "colab_type": "code",
        "outputId": "dae275b3-84c1-418e-d518-9192507b31da",
        "colab": {}
      },
      "source": [
        "type(sam)"
      ],
      "execution_count": 0,
      "outputs": [
        {
          "output_type": "execute_result",
          "data": {
            "text/plain": [
              "__main__.Dog"
            ]
          },
          "metadata": {
            "tags": []
          },
          "execution_count": 120
        }
      ]
    },
    {
      "cell_type": "code",
      "metadata": {
        "id": "4aA7ljKQxCr4",
        "colab_type": "code",
        "outputId": "3433aecf-410b-4059-d502-06c07452b1fd",
        "colab": {}
      },
      "source": [
        "type(frank)"
      ],
      "execution_count": 0,
      "outputs": [
        {
          "output_type": "execute_result",
          "data": {
            "text/plain": [
              "__main__.Dog"
            ]
          },
          "metadata": {
            "tags": []
          },
          "execution_count": 122
        }
      ]
    },
    {
      "cell_type": "code",
      "metadata": {
        "id": "aXWN6VXUxCr5",
        "colab_type": "code",
        "outputId": "8403d9b3-6144-4203-c3a3-3d380be4ef96",
        "colab": {}
      },
      "source": [
        "sam.breed"
      ],
      "execution_count": 0,
      "outputs": [
        {
          "output_type": "execute_result",
          "data": {
            "text/plain": [
              "'Lab'"
            ]
          },
          "metadata": {
            "tags": []
          },
          "execution_count": 123
        }
      ]
    },
    {
      "cell_type": "code",
      "metadata": {
        "id": "zPLNuwIXxCr7",
        "colab_type": "code",
        "outputId": "4a708352-6e42-4ba6-9c76-cbb3ea686513",
        "colab": {}
      },
      "source": [
        "frank.breed"
      ],
      "execution_count": 0,
      "outputs": [
        {
          "output_type": "execute_result",
          "data": {
            "text/plain": [
              "'Huskie'"
            ]
          },
          "metadata": {
            "tags": []
          },
          "execution_count": 124
        }
      ]
    },
    {
      "cell_type": "code",
      "metadata": {
        "id": "1N3xNGIexCr8",
        "colab_type": "code",
        "colab": {}
      },
      "source": [
        "class chatbot(object):\n",
        "    def __init__(self, name):\n",
        "        self.name = name\n",
        "    def hello(self):\n",
        "        print('Hello')\n",
        "    def getName(self):\n",
        "        print('my name is ' + self.name)"
      ],
      "execution_count": 0,
      "outputs": []
    },
    {
      "cell_type": "code",
      "metadata": {
        "id": "sUrHMLXxxCr9",
        "colab_type": "code",
        "colab": {}
      },
      "source": [
        "littleC = chatbot(name = 'littleC')\n",
        "littleI = chatbot(name = 'littleI')\n",
        "littleM = chatbot(name = 'littleM')"
      ],
      "execution_count": 0,
      "outputs": []
    },
    {
      "cell_type": "code",
      "metadata": {
        "id": "b7dYodxjxCr-",
        "colab_type": "code",
        "outputId": "a088855c-2d46-4714-b3a8-2d3c6094f837",
        "colab": {}
      },
      "source": [
        "littleC.getName()"
      ],
      "execution_count": 0,
      "outputs": [
        {
          "output_type": "stream",
          "text": [
            "my name is littleC\n"
          ],
          "name": "stdout"
        }
      ]
    },
    {
      "cell_type": "code",
      "metadata": {
        "id": "AkP8Z_NDxCr_",
        "colab_type": "code",
        "outputId": "de7abf07-72f1-45d0-f063-711cc13bb51b",
        "colab": {}
      },
      "source": [
        "littleI.getName()"
      ],
      "execution_count": 0,
      "outputs": [
        {
          "output_type": "stream",
          "text": [
            "my name is littleI\n"
          ],
          "name": "stdout"
        }
      ]
    },
    {
      "cell_type": "code",
      "metadata": {
        "id": "4Ra6igOlxCsD",
        "colab_type": "code",
        "outputId": "93ec5d7a-6bf7-488f-893b-33909939f135",
        "colab": {}
      },
      "source": [
        "littleM.getName()"
      ],
      "execution_count": 0,
      "outputs": [
        {
          "output_type": "stream",
          "text": [
            "my name is littleM\n"
          ],
          "name": "stdout"
        }
      ]
    },
    {
      "cell_type": "code",
      "metadata": {
        "id": "8pGC6V2PxCsH",
        "colab_type": "code",
        "outputId": "fdb9bdda-a751-4483-f528-ddc0131f426d",
        "colab": {}
      },
      "source": [
        "littleM.hello()"
      ],
      "execution_count": 0,
      "outputs": [
        {
          "output_type": "stream",
          "text": [
            "Hello\n"
          ],
          "name": "stdout"
        }
      ]
    },
    {
      "cell_type": "code",
      "metadata": {
        "id": "9pG_Z-1ZxCsI",
        "colab_type": "code",
        "colab": {}
      },
      "source": [
        "class chatbot(object):\n",
        "    company = 'LargitData'\n",
        "    def __init__(self, name):\n",
        "        self.name = name\n",
        "    def hello(self):\n",
        "        print('Hello')\n",
        "    def getName(self):\n",
        "        print('my name is ' + self.name)"
      ],
      "execution_count": 0,
      "outputs": []
    },
    {
      "cell_type": "code",
      "metadata": {
        "id": "CulTJfoNxCsK",
        "colab_type": "code",
        "colab": {}
      },
      "source": [
        "littleC = chatbot(name = 'littleC')"
      ],
      "execution_count": 0,
      "outputs": []
    },
    {
      "cell_type": "code",
      "metadata": {
        "id": "gPGGemSsxCsN",
        "colab_type": "code",
        "outputId": "99d4f8c8-ebbe-4bc5-d8ff-9e911f6dea77",
        "colab": {}
      },
      "source": [
        "littleC.company"
      ],
      "execution_count": 0,
      "outputs": [
        {
          "output_type": "execute_result",
          "data": {
            "text/plain": [
              "'LargitData'"
            ]
          },
          "metadata": {
            "tags": []
          },
          "execution_count": 133
        }
      ]
    },
    {
      "cell_type": "code",
      "metadata": {
        "id": "6m8SmS1AxCsO",
        "colab_type": "code",
        "outputId": "30dd0abe-efc6-44c6-c301-58758b4d0ca2",
        "colab": {}
      },
      "source": [
        "chatbot.company"
      ],
      "execution_count": 0,
      "outputs": [
        {
          "output_type": "execute_result",
          "data": {
            "text/plain": [
              "'LargitData'"
            ]
          },
          "metadata": {
            "tags": []
          },
          "execution_count": 134
        }
      ]
    },
    {
      "cell_type": "code",
      "metadata": {
        "id": "eRDVP4RnxCsQ",
        "colab_type": "code",
        "colab": {}
      },
      "source": [
        "class Circle(object):\n",
        "    pi = 3.14\n",
        "    \n",
        "    def __init__(self, radius=1):\n",
        "        self.radius = radius\n",
        "        \n",
        "    def area(self):\n",
        "        return self.radius * self.radius * Circle.pi\n",
        "    \n",
        "    def setRadius(self, radius):\n",
        "        self.radius = radius\n",
        "        \n",
        "    def getRadius(self):\n",
        "        return self.radius"
      ],
      "execution_count": 0,
      "outputs": []
    },
    {
      "cell_type": "code",
      "metadata": {
        "id": "fKcVSyS3xCsR",
        "colab_type": "code",
        "colab": {}
      },
      "source": [
        "c = Circle(radius=1)"
      ],
      "execution_count": 0,
      "outputs": []
    },
    {
      "cell_type": "code",
      "metadata": {
        "id": "g72GhO13xCsR",
        "colab_type": "code",
        "outputId": "7cda8547-e557-4f29-f586-2a5b63bdb685",
        "colab": {}
      },
      "source": [
        "c.area()"
      ],
      "execution_count": 0,
      "outputs": [
        {
          "output_type": "execute_result",
          "data": {
            "text/plain": [
              "3.14"
            ]
          },
          "metadata": {
            "tags": []
          },
          "execution_count": 137
        }
      ]
    },
    {
      "cell_type": "code",
      "metadata": {
        "id": "-fc_-CUTxCsS",
        "colab_type": "code",
        "outputId": "82843d19-8b9e-4105-c6ca-0c744ef3d77e",
        "colab": {}
      },
      "source": [
        "c.getRadius()"
      ],
      "execution_count": 0,
      "outputs": [
        {
          "output_type": "execute_result",
          "data": {
            "text/plain": [
              "1"
            ]
          },
          "metadata": {
            "tags": []
          },
          "execution_count": 138
        }
      ]
    },
    {
      "cell_type": "code",
      "metadata": {
        "id": "C8woKz4CxCsT",
        "colab_type": "code",
        "colab": {}
      },
      "source": [
        "c.setRadius(3)"
      ],
      "execution_count": 0,
      "outputs": []
    },
    {
      "cell_type": "code",
      "metadata": {
        "id": "5clMQDIRxCsT",
        "colab_type": "code",
        "outputId": "7d8d504f-21fd-43a3-be01-10b382a52cf1",
        "colab": {}
      },
      "source": [
        "c.area()"
      ],
      "execution_count": 0,
      "outputs": [
        {
          "output_type": "execute_result",
          "data": {
            "text/plain": [
              "28.26"
            ]
          },
          "metadata": {
            "tags": []
          },
          "execution_count": 140
        }
      ]
    },
    {
      "cell_type": "markdown",
      "metadata": {
        "id": "CrwjGlvCxCsU",
        "colab_type": "text"
      },
      "source": [
        "## Package"
      ]
    },
    {
      "cell_type": "markdown",
      "metadata": {
        "id": "LRpZMRfcxCsU",
        "colab_type": "text"
      },
      "source": [
        "### 語音辨識\n",
        "- pip install SpeechRecognition\n",
        "- pip install pyaudio"
      ]
    },
    {
      "cell_type": "code",
      "metadata": {
        "id": "KuBFCorDxCsV",
        "colab_type": "code",
        "outputId": "3676b335-3e15-4de7-8bad-b25ae9c8e65f",
        "colab": {}
      },
      "source": [
        "! pip install SpeechRecognition"
      ],
      "execution_count": 0,
      "outputs": [
        {
          "output_type": "stream",
          "text": [
            "Collecting SpeechRecognition\n",
            "  Downloading https://files.pythonhosted.org/packages/26/e1/7f5678cd94ec1234269d23756dbdaa4c8cfaed973412f88ae8adf7893a50/SpeechRecognition-3.8.1-py2.py3-none-any.whl (32.8MB)\n",
            "Installing collected packages: SpeechRecognition\n",
            "Successfully installed SpeechRecognition-3.8.1\n"
          ],
          "name": "stdout"
        }
      ]
    },
    {
      "cell_type": "code",
      "metadata": {
        "id": "yf-ILzVQxCsV",
        "colab_type": "code",
        "outputId": "a1f5f412-4ada-4b31-b20f-2a514f3c78ff",
        "colab": {}
      },
      "source": [
        "! conda install -y pyaudio"
      ],
      "execution_count": 0,
      "outputs": [
        {
          "output_type": "stream",
          "text": [
            "Collecting package metadata (current_repodata.json): ...working... done\n",
            "Solving environment: ...working... done\n",
            "\n",
            "## Package Plan ##\n",
            "\n",
            "  environment location: C:\\ProgramData\\Anaconda3\n",
            "\n",
            "  added / updated specs:\n",
            "    - pyaudio\n",
            "\n",
            "\n",
            "The following packages will be downloaded:\n",
            "\n",
            "    package                    |            build\n",
            "    ---------------------------|-----------------\n",
            "    portaudio-19.6.0           |       hfa6e2cd_3         379 KB\n",
            "    pyaudio-0.2.11             |   py37hfa6e2cd_1          31 KB\n",
            "    ------------------------------------------------------------\n",
            "                                           Total:         411 KB\n",
            "\n",
            "The following NEW packages will be INSTALLED:\n",
            "\n",
            "  portaudio          pkgs/main/win-64::portaudio-19.6.0-hfa6e2cd_3\n",
            "  pyaudio            pkgs/main/win-64::pyaudio-0.2.11-py37hfa6e2cd_1\n",
            "\n",
            "\n",
            "\n",
            "Downloading and Extracting Packages\n",
            "\n",
            "portaudio-19.6.0     | 379 KB    |            |   0% \n",
            "portaudio-19.6.0     | 379 KB    | ########## | 100% \n",
            "\n",
            "pyaudio-0.2.11       | 31 KB     |            |   0% \n",
            "pyaudio-0.2.11       | 31 KB     | #####1     |  51% \n",
            "pyaudio-0.2.11       | 31 KB     | ########## | 100% \n",
            "Preparing transaction: ...working... done\n",
            "Verifying transaction: ...working... done\n",
            "Executing transaction: ...working... done\n"
          ],
          "name": "stdout"
        }
      ]
    },
    {
      "cell_type": "code",
      "metadata": {
        "id": "p_hepm-4xCsX",
        "colab_type": "code",
        "outputId": "87997f79-949d-4905-e15a-f7dd54cfda67",
        "colab": {}
      },
      "source": [
        "import speech_recognition\n",
        "\n",
        "def listenTo():\n",
        "    r = speech_recognition.Recognizer()\n",
        "\n",
        "    with speech_recognition.Microphone() as source:\n",
        "        r.adjust_for_ambient_noise(source)\n",
        "        audio = r.listen(source)\n",
        "    return r.recognize_google(audio, language='zh-TW')\n",
        "\n",
        "listenTo()"
      ],
      "execution_count": 0,
      "outputs": [
        {
          "output_type": "execute_result",
          "data": {
            "text/plain": [
              "'大家好'"
            ]
          },
          "metadata": {
            "tags": []
          },
          "execution_count": 146
        }
      ]
    },
    {
      "cell_type": "code",
      "metadata": {
        "id": "zGpoIvNfxCsY",
        "colab_type": "code",
        "colab": {}
      },
      "source": [
        "qa = {\n",
        "  '早安': '你也早安',\n",
        "  '吃飽沒': '吃飽了',\n",
        "  '掰掰': '明天見'\n",
        "}"
      ],
      "execution_count": 0,
      "outputs": []
    },
    {
      "cell_type": "code",
      "metadata": {
        "id": "6uUjTFTsxCsZ",
        "colab_type": "code",
        "outputId": "e35bf6df-033f-4e5f-b3f0-f9fec9d8157e",
        "colab": {}
      },
      "source": [
        "qa.get(listenTo(), '我現在還不聰明, 等我以後變聰明以後再告訴你')"
      ],
      "execution_count": 0,
      "outputs": [
        {
          "output_type": "execute_result",
          "data": {
            "text/plain": [
              "'我現在還不聰明, 等我以後變聰明以後再告訴你'"
            ]
          },
          "metadata": {
            "tags": []
          },
          "execution_count": 150
        }
      ]
    },
    {
      "cell_type": "code",
      "metadata": {
        "id": "RXLrFn6CxCsb",
        "colab_type": "code",
        "outputId": "dec88782-e725-4831-f261-bdca44759ae2",
        "colab": {}
      },
      "source": [
        "! pip install gTTS"
      ],
      "execution_count": 0,
      "outputs": [
        {
          "output_type": "stream",
          "text": [
            "Collecting gTTS\n",
            "  Downloading https://files.pythonhosted.org/packages/e6/37/f55346a736278f0eb0ae9f7edee1a61028735ef0010db68a2e6fcd0ece56/gTTS-2.0.3.tar.gz\n",
            "Requirement already satisfied: six in c:\\programdata\\anaconda3\\lib\\site-packages (from gTTS) (1.12.0)\n",
            "Collecting bs4 (from gTTS)\n",
            "  Downloading https://files.pythonhosted.org/packages/10/ed/7e8b97591f6f456174139ec089c769f89a94a1a4025fe967691de971f314/bs4-0.0.1.tar.gz\n",
            "Requirement already satisfied: click in c:\\programdata\\anaconda3\\lib\\site-packages (from gTTS) (7.0)\n",
            "Requirement already satisfied: requests in c:\\programdata\\anaconda3\\lib\\site-packages (from gTTS) (2.22.0)\n",
            "Collecting gtts_token (from gTTS)\n",
            "  Downloading https://files.pythonhosted.org/packages/e7/25/ca6e9cd3275bfc3097fe6b06cc31db6d3dfaf32e032e0f73fead9c9a03ce/gTTS-token-1.1.3.tar.gz\n",
            "Requirement already satisfied: beautifulsoup4 in c:\\programdata\\anaconda3\\lib\\site-packages (from bs4->gTTS) (4.7.1)\n",
            "Requirement already satisfied: idna<2.9,>=2.5 in c:\\programdata\\anaconda3\\lib\\site-packages (from requests->gTTS) (2.8)\n",
            "Requirement already satisfied: certifi>=2017.4.17 in c:\\programdata\\anaconda3\\lib\\site-packages (from requests->gTTS) (2019.6.16)\n",
            "Requirement already satisfied: urllib3!=1.25.0,!=1.25.1,<1.26,>=1.21.1 in c:\\programdata\\anaconda3\\lib\\site-packages (from requests->gTTS) (1.24.2)\n",
            "Requirement already satisfied: chardet<3.1.0,>=3.0.2 in c:\\programdata\\anaconda3\\lib\\site-packages (from requests->gTTS) (3.0.4)\n",
            "Requirement already satisfied: soupsieve>=1.2 in c:\\programdata\\anaconda3\\lib\\site-packages (from beautifulsoup4->bs4->gTTS) (1.8)\n",
            "Building wheels for collected packages: gTTS, bs4, gtts-token\n",
            "  Building wheel for gTTS (setup.py): started\n",
            "  Building wheel for gTTS (setup.py): finished with status 'done'\n",
            "  Stored in directory: C:\\Users\\user\\AppData\\Local\\pip\\Cache\\wheels\\ac\\d3\\52\\db6c154b20dfaab7e0b514eb5eef92cecd057e40e16fdda58b\n",
            "  Building wheel for bs4 (setup.py): started\n",
            "  Building wheel for bs4 (setup.py): finished with status 'done'\n",
            "  Stored in directory: C:\\Users\\user\\AppData\\Local\\pip\\Cache\\wheels\\a0\\b0\\b2\\4f80b9456b87abedbc0bf2d52235414c3467d8889be38dd472\n",
            "  Building wheel for gtts-token (setup.py): started\n",
            "  Building wheel for gtts-token (setup.py): finished with status 'done'\n",
            "  Stored in directory: C:\\Users\\user\\AppData\\Local\\pip\\Cache\\wheels\\dd\\11\\61\\33f7e51bf545e910552b2255eead2a7cd8ef54064b46dceb34\n",
            "Successfully built gTTS bs4 gtts-token\n",
            "Installing collected packages: bs4, gtts-token, gTTS\n",
            "Successfully installed bs4-0.0.1 gTTS-2.0.3 gtts-token-1.1.3\n"
          ],
          "name": "stdout"
        }
      ]
    },
    {
      "cell_type": "code",
      "metadata": {
        "id": "HXJhDqx4xCsb",
        "colab_type": "code",
        "outputId": "cdf4b45e-5f91-412b-a7ea-75151efff051",
        "colab": {}
      },
      "source": [
        "! pip install pygame"
      ],
      "execution_count": 0,
      "outputs": [
        {
          "output_type": "stream",
          "text": [
            "Collecting pygame\n",
            "  Downloading https://files.pythonhosted.org/packages/ed/56/b63ab3724acff69f4080e54c4bc5f55d1fbdeeb19b92b70acf45e88a5908/pygame-1.9.6-cp37-cp37m-win_amd64.whl (4.3MB)\n",
            "Installing collected packages: pygame\n",
            "Successfully installed pygame-1.9.6\n"
          ],
          "name": "stdout"
        }
      ]
    },
    {
      "cell_type": "code",
      "metadata": {
        "id": "d7hX-9cYxCsc",
        "colab_type": "code",
        "outputId": "cb0fc050-41ab-4214-af10-1251dfb63adf",
        "colab": {}
      },
      "source": [
        "from gtts import gTTS\n",
        "from pygame import mixer\n",
        "mixer.init()\n",
        "\n",
        "import tempfile\n",
        "def speak(sentence):\n",
        "    with tempfile.NamedTemporaryFile(delete=True) as fp:\n",
        "        tts = gTTS(text=sentence, lang='zh-tw')\n",
        "        tts.save(\"{}.mp3\".format(fp.name))\n",
        "        mixer.music.load('{}.mp3'.format(fp.name))\n",
        "        mixer.music.play()"
      ],
      "execution_count": 0,
      "outputs": [
        {
          "output_type": "stream",
          "text": [
            "pygame 1.9.6\n",
            "Hello from the pygame community. https://www.pygame.org/contribute.html\n"
          ],
          "name": "stdout"
        }
      ]
    },
    {
      "cell_type": "code",
      "metadata": {
        "id": "oJNfZnG5xCsd",
        "colab_type": "code",
        "colab": {}
      },
      "source": [
        "speak(qa.get(listenTo(), '我現在還不聰明，以後變聰明以後再告訴你'))"
      ],
      "execution_count": 0,
      "outputs": []
    },
    {
      "cell_type": "code",
      "metadata": {
        "id": "IqMYgOcvxCse",
        "colab_type": "code",
        "colab": {}
      },
      "source": [
        ""
      ],
      "execution_count": 0,
      "outputs": []
    }
  ]
}